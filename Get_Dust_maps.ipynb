{
 "cells": [
  {
   "cell_type": "code",
   "execution_count": null,
   "id": "f73f15bc-e8a2-483c-9862-56a9d8719e73",
   "metadata": {},
   "outputs": [],
   "source": [
    "# install Python Sky Model from GitHub\n",
    "!pip install git+https://www.github.com/galsci/pysm\n",
    "!git clone https://www.github.com/galsci/pysm\n",
    "!pip install pysm3"
   ]
  },
  {
   "cell_type": "code",
   "execution_count": null,
   "id": "a958dd44-3b13-442b-8eb2-cfb466c3c72c",
   "metadata": {},
   "outputs": [],
   "source": [
    "import numpy as np\n",
    "import healpy as hp\n",
    "import pysm3\n",
    "from pysm3 import units as u\n",
    "from pysm3.models.dust import blackbody_ratio"
   ]
  },
  {
   "cell_type": "code",
   "execution_count": null,
   "id": "8551f248-505d-4006-9afd-92dca003ea44",
   "metadata": {},
   "outputs": [],
   "source": [
    "# this parameter controls the resolution\n",
    "# (pixel number)\n",
    "nside = 2048"
   ]
  },
  {
   "cell_type": "code",
   "execution_count": null,
   "id": "f29092be-165b-4f98-81cf-2f960e527669",
   "metadata": {},
   "outputs": [],
   "source": [
    "freq_353 = 353 * u.GHz\n",
    "freq_545 = 545 * u.GHz\n",
    "freq_857 = 857 * u.GHz"
   ]
  },
  {
   "cell_type": "code",
   "execution_count": null,
   "id": "1ba8f2bb-54f4-4f4d-a710-b110a70ba744",
   "metadata": {},
   "outputs": [],
   "source": [
    "sky_model9 = pysm3.Sky(preset_strings=['d9'], nside=nside)\n",
    "\n",
    "sky_model10 = pysm3.Sky(preset_strings=['d10'], nside=nside)\n",
    "\n",
    "d11_configuration = pysm3.sky.PRESET_MODELS[\"d11\"].copy()\n",
    "del d11_configuration[\"class\"]\n",
    "sky_model11 = pysm3.models.ModifiedBlackBodyRealization(nside=nside, **d11_configuration)\n",
    "\n",
    "d12_configuration = pysm3.sky.PRESET_MODELS[\"d12\"].copy()\n",
    "del d12_configuration[\"class\"]\n",
    "sky_model12 = pysm3.models.ModifiedBlackBodyLayers(nside=nside, **d12_configuration)"
   ]
  },
  {
   "cell_type": "code",
   "execution_count": null,
   "id": "e763016a-4707-4cbb-88f8-a38b4b30a925",
   "metadata": {},
   "outputs": [],
   "source": [
    "model9_353 = sky_model9.get_emission(freq_353)\n",
    "model9_545 = sky_model9.get_emission(freq_545)\n",
    "model9_857 = sky_model9.get_emission(freq_857)"
   ]
  },
  {
   "cell_type": "code",
   "execution_count": null,
   "id": "59e0cd80-2ea4-4efa-ad30-15b379cab4f5",
   "metadata": {},
   "outputs": [],
   "source": [
    "model10_353 = sky_model10.get_emission(freq_353)\n",
    "model10_545 = sky_model10.get_emission(freq_545)\n",
    "model10_857 = sky_model10.get_emission(freq_857)"
   ]
  },
  {
   "cell_type": "code",
   "execution_count": null,
   "id": "9d4655f7-d65b-4464-a297-9a8aea7ea1a2",
   "metadata": {},
   "outputs": [],
   "source": [
    "model11_353 = sky_model11.get_emission(freq_353)\n",
    "model11_545 = sky_model11.get_emission(freq_545)\n",
    "model11_857 = sky_model11.get_emission(freq_857)"
   ]
  },
  {
   "cell_type": "code",
   "execution_count": null,
   "id": "63281183-a3d6-48f4-a166-1fa0128a3ad2",
   "metadata": {},
   "outputs": [],
   "source": [
    "model12_353 = sky_model12.get_emission(freq_353)\n",
    "model12_545 = sky_model12.get_emission(freq_545)\n",
    "model12_857 = sky_model12.get_emission(freq_857)"
   ]
  },
  {
   "cell_type": "code",
   "execution_count": null,
   "id": "61985a7e-e708-419d-9012-d4d0091cf5d5",
   "metadata": {},
   "outputs": [],
   "source": [
    "hp.write_map('d9_2048_353_I.fits', model9_353[0])\n",
    "hp.write_map('d9_2048_545_I.fits', model9_545[0])\n",
    "hp.write_map('d9_2048_857_I.fits', model9_857[0])"
   ]
  },
  {
   "cell_type": "code",
   "execution_count": null,
   "id": "1283dc89-d51d-46cb-a747-c1662fb62f4c",
   "metadata": {},
   "outputs": [],
   "source": [
    "hp.write_map('d10_2048_353_I.fits', model10_353[0])\n",
    "hp.write_map('d10_2048_545_I.fits', model10_545[0])\n",
    "hp.write_map('d10_2048_857_I.fits', model10_857[0])"
   ]
  },
  {
   "cell_type": "code",
   "execution_count": null,
   "id": "a737d405-9bce-41ee-819e-efb54eea4cd8",
   "metadata": {},
   "outputs": [],
   "source": [
    "hp.write_map('d11_2048_353_I.fits', model11_353[0])\n",
    "hp.write_map('d11_2048_545_I.fits', model11_545[0])\n",
    "hp.write_map('d11_2048_857_I.fits', model11_857[0])"
   ]
  },
  {
   "cell_type": "code",
   "execution_count": null,
   "id": "060675b5-fd79-40fa-85db-88a5a01c5717",
   "metadata": {},
   "outputs": [],
   "source": [
    "hp.write_map('d12_2048_353_I.fits', model12_353[0])\n",
    "hp.write_map('d12_2048_545_I.fits', model12_545[0])\n",
    "hp.write_map('d12_2048_857_I.fits', model12_857[0])"
   ]
  }
 ],
 "metadata": {
  "kernelspec": {
   "display_name": "Python 3 (ipykernel)",
   "language": "python",
   "name": "python3"
  },
  "language_info": {
   "codemirror_mode": {
    "name": "ipython",
    "version": 3
   },
   "file_extension": ".py",
   "mimetype": "text/x-python",
   "name": "python",
   "nbconvert_exporter": "python",
   "pygments_lexer": "ipython3",
   "version": "3.10.5"
  }
 },
 "nbformat": 4,
 "nbformat_minor": 5
}
