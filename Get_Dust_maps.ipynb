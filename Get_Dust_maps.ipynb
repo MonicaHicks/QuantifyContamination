{
 "cells": [
  {
   "cell_type": "code",
   "execution_count": null,
   "id": "f73f15bc-e8a2-483c-9862-56a9d8719e73",
   "metadata": {},
   "outputs": [],
   "source": [
    "# install Python Sky Model from GitHub\n",
    "!pip install git+https://www.github.com/galsci/pysm\n",
    "!git clone https://www.github.com/galsci/pysm\n",
    "!pip install pysm3"
   ]
  },
  {
   "cell_type": "code",
   "execution_count": null,
   "id": "a958dd44-3b13-442b-8eb2-cfb466c3c72c",
   "metadata": {},
   "outputs": [],
   "source": [
    "import pysm3\n",
    "# for converting freq into GHz\n",
    "from pysm3 import units as u\n",
    "# for writing maps to fits files\n",
    "import healpy as hp"
   ]
  },
  {
   "cell_type": "code",
   "execution_count": null,
   "id": "8551f248-505d-4006-9afd-92dca003ea44",
   "metadata": {},
   "outputs": [],
   "source": [
    "# this parameter controls the resolution\n",
    "# (pixel number)\n",
    "nside = 2048"
   ]
  },
  {
   "cell_type": "code",
   "execution_count": null,
   "id": "f29092be-165b-4f98-81cf-2f960e527669",
   "metadata": {},
   "outputs": [],
   "source": [
    "# set frequency of dust map output\n",
    "freq = 343 * u.GHz\n",
    "# freq = 545 * u.GHz\n",
    "# freq = 857 * u.GHz"
   ]
  },
  {
   "cell_type": "code",
   "execution_count": null,
   "id": "1ba8f2bb-54f4-4f4d-a710-b110a70ba744",
   "metadata": {},
   "outputs": [],
   "source": [
    "# generate 3 dust maps per model (IQU)\n",
    "# Intensity, Stokes Q, and Stokes U\n",
    "models = 'd9', 'd10', 'd11', 'd12'\n",
    "sky_models = []\n",
    "for m in models:\n",
    "    sky_models.append(pysm3.Sky(preset_strings=[m], nside=nside)"
   ]
  },
  {
   "cell_type": "code",
   "execution_count": null,
   "id": "e763016a-4707-4cbb-88f8-a38b4b30a925",
   "metadata": {},
   "outputs": [],
   "source": [
    "# produce 3 dust maps (IQU) of the specified model \n",
    "# at the given resolution and frequency\n",
    "dust_maps = []\n",
    "for s in sky_models:\n",
    "    dust_maps.append(s.get_emission(freq))"
   ]
  },
  {
   "cell_type": "code",
   "execution_count": null,
   "id": "59e0cd80-2ea4-4efa-ad30-15b379cab4f5",
   "metadata": {},
   "outputs": [],
   "source": [
    "# write the intensity dust map to disk\n",
    "# as a fits file (default: RING)\n",
    "for d in dust_maps:\n",
    "    hp.write_map('d9_2048_343_I.fits', d[0])"
   ]
  }
 ],
 "metadata": {
  "kernelspec": {
   "display_name": "Python 3 (ipykernel)",
   "language": "python",
   "name": "python3"
  },
  "language_info": {
   "codemirror_mode": {
    "name": "ipython",
    "version": 3
   },
   "file_extension": ".py",
   "mimetype": "text/x-python",
   "name": "python",
   "nbconvert_exporter": "python",
   "pygments_lexer": "ipython3",
   "version": "3.10.5"
  }
 },
 "nbformat": 4,
 "nbformat_minor": 5
}
