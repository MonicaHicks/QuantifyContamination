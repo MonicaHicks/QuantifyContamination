{
 "cells": [
  {
   "cell_type": "code",
   "execution_count": 2,
   "id": "10f2c9a9-42cd-49db-b93f-00ee1f02c78f",
   "metadata": {},
   "outputs": [],
   "source": [
    "# %pip install healpy\n",
    "# %pip install astropy\n",
    "import healpy as hp\n",
    "import astropy\n",
    "from astropy.io import fits\n",
    "import numpy as np\n",
    "import matplotlib.pyplot as plt\n",
    "import pandas as pd\n",
    "from astropy.coordinates import SkyCoord"
   ]
  },
  {
   "cell_type": "code",
   "execution_count": 3,
   "id": "fe2ddcdd-ad49-490b-9b9e-d7391df36aa2",
   "metadata": {},
   "outputs": [
    {
     "data": {
      "text/html": [
       "<div>\n",
       "<style scoped>\n",
       "    .dataframe tbody tr th:only-of-type {\n",
       "        vertical-align: middle;\n",
       "    }\n",
       "\n",
       "    .dataframe tbody tr th {\n",
       "        vertical-align: top;\n",
       "    }\n",
       "\n",
       "    .dataframe thead th {\n",
       "        text-align: right;\n",
       "    }\n",
       "</style>\n",
       "<table border=\"1\" class=\"dataframe\">\n",
       "  <thead>\n",
       "    <tr style=\"text-align: right;\">\n",
       "      <th></th>\n",
       "      <th>G_or_Q</th>\n",
       "      <th>RA</th>\n",
       "      <th>DEC</th>\n",
       "      <th>Pix</th>\n",
       "      <th>Z</th>\n",
       "    </tr>\n",
       "  </thead>\n",
       "  <tbody>\n",
       "    <tr>\n",
       "      <th>0</th>\n",
       "      <td>G</td>\n",
       "      <td>192.721451</td>\n",
       "      <td>41.120152</td>\n",
       "      <td>538552</td>\n",
       "      <td>0.000991</td>\n",
       "    </tr>\n",
       "    <tr>\n",
       "      <th>1</th>\n",
       "      <td>G</td>\n",
       "      <td>188.860123</td>\n",
       "      <td>14.496320</td>\n",
       "      <td>1179597</td>\n",
       "      <td>0.004120</td>\n",
       "    </tr>\n",
       "    <tr>\n",
       "      <th>2</th>\n",
       "      <td>G</td>\n",
       "      <td>267.360474</td>\n",
       "      <td>70.144341</td>\n",
       "      <td>93102</td>\n",
       "      <td>0.001000</td>\n",
       "    </tr>\n",
       "    <tr>\n",
       "      <th>3</th>\n",
       "      <td>G</td>\n",
       "      <td>187.016220</td>\n",
       "      <td>9.803620</td>\n",
       "      <td>1304536</td>\n",
       "      <td>0.003557</td>\n",
       "    </tr>\n",
       "    <tr>\n",
       "      <th>4</th>\n",
       "      <td>G</td>\n",
       "      <td>187.367000</td>\n",
       "      <td>8.749890</td>\n",
       "      <td>1333206</td>\n",
       "      <td>0.004139</td>\n",
       "    </tr>\n",
       "  </tbody>\n",
       "</table>\n",
       "</div>"
      ],
      "text/plain": [
       "  G_or_Q          RA        DEC      Pix         Z\n",
       "0      G  192.721451  41.120152   538552  0.000991\n",
       "1      G  188.860123  14.496320  1179597  0.004120\n",
       "2      G  267.360474  70.144341    93102  0.001000\n",
       "3      G  187.016220   9.803620  1304536  0.003557\n",
       "4      G  187.367000   8.749890  1333206  0.004139"
      ]
     },
     "execution_count": 3,
     "metadata": {},
     "output_type": "execute_result"
    }
   ],
   "source": [
    "# Read in 22.5 million data elements\n",
    "data = pd.read_csv('/Users/monicahicks/GLADE+512.csv')\n",
    "# Print first 5 row for format check\n",
    "data.head(5)"
   ]
  },
  {
   "cell_type": "code",
   "execution_count": 4,
   "id": "3e4817ab-a32b-4b63-a349-1c12cd578041",
   "metadata": {},
   "outputs": [],
   "source": [
    "# This is SO FREAKING FAST literally 1000x faster than a loop\n",
    "good_data = data.loc[(data.Z < 0.25) & (data.Z > 0)]"
   ]
  },
  {
   "cell_type": "code",
   "execution_count": 5,
   "id": "2ccc7866-9d62-4388-81ab-484e6c8b5b24",
   "metadata": {},
   "outputs": [
    {
     "name": "stdout",
     "output_type": "stream",
     "text": [
      "15780980\n"
     ]
    }
   ],
   "source": [
    "# sanity check on elements in desired set\n",
    "print(len(good_data))"
   ]
  },
  {
   "cell_type": "code",
   "execution_count": 6,
   "id": "f7e02cd4-f87f-4a4f-9439-a12bf1894f94",
   "metadata": {},
   "outputs": [],
   "source": [
    "# get galaxy icrs coordinates from RA/Dec coordinates\n",
    "# creates 3 equal length paralell arrays\n",
    "ra = good_data['RA']\n",
    "dec = good_data['DEC']\n",
    "coords = SkyCoord(ra=ra, dec=dec, unit=\"deg\", frame='icrs')"
   ]
  },
  {
   "cell_type": "code",
   "execution_count": 7,
   "id": "3754f123-e1a2-49a1-a537-7a493f463f7e",
   "metadata": {},
   "outputs": [],
   "source": [
    "# get parallel arrays of galaxy location as vector and pixel coordinates\n",
    "# vec is list of 3-element vectors: [[x1,y1,z1], ... [xn,yn,zn]]\n",
    "vec = hp.ang2vec(theta=np.pi / 2.0 - np.radians(coords.galactic.b.value), phi=np.radians(coords.galactic.l.value),lonlat=False)\n",
    "# pixels is list of integers 0-50331647\n",
    "pixels = hp.ang2pix(nside=2048,theta=np.pi / 2.0 - np.radians(coords.galactic.b.value), phi=np.radians(coords.galactic.l.value),lonlat=False)"
   ]
  },
  {
   "cell_type": "code",
   "execution_count": 8,
   "id": "9d3f06aa-c21f-45c1-a361-0f21a9513f95",
   "metadata": {},
   "outputs": [
    {
     "name": "stdout",
     "output_type": "stream",
     "text": [
      "15780980\n"
     ]
    }
   ],
   "source": [
    "z = good_data['Z']\n",
    "print(len(z))"
   ]
  },
  {
   "cell_type": "markdown",
   "id": "a64a0e47-d562-451f-863a-f33d1c6a93cd",
   "metadata": {},
   "source": [
    "We now have parallel arrays of vector location, pixel, and z value"
   ]
  },
  {
   "cell_type": "code",
   "execution_count": 9,
   "id": "4c2a5a3a-4ba9-4f5f-a7eb-41e05aae1689",
   "metadata": {},
   "outputs": [],
   "source": [
    "# create dividers for 16 bins 0-0.25\n",
    "def get_z_bin(z):\n",
    "    bins = np.linspace(0,0.25,17)\n",
    "    for i in range(len(bins)):\n",
    "        # skip 0 to set it as bin floor\n",
    "        if z < bins[i]:\n",
    "            return i - 1\n",
    "    return 15"
   ]
  },
  {
   "cell_type": "code",
   "execution_count": 10,
   "id": "34d7f9a4-3ec8-47e9-914c-5dd35edeb8ff",
   "metadata": {},
   "outputs": [
    {
     "name": "stdout",
     "output_type": "stream",
     "text": [
      "0.07 4\n",
      "0.091 5\n",
      "0.05 3\n",
      "0.04 2\n",
      "0.21 13\n"
     ]
    }
   ],
   "source": [
    "# test proper binning\n",
    "print(0.07,get_z_bin(0.07))\n",
    "print(0.091,get_z_bin(0.091))\n",
    "print(0.05,get_z_bin(0.05))\n",
    "print(0.04,get_z_bin(0.04))\n",
    "print(0.21,get_z_bin(0.21))"
   ]
  },
  {
   "cell_type": "code",
   "execution_count": null,
   "id": "f5e8fbed-d66f-46a0-b084-bf89f601ff0f",
   "metadata": {},
   "outputs": [],
   "source": [
    "# create map with pixel as key\n",
    "# [ z-bins, vector location, red value, expected red value ]\n",
    "# as value\n",
    "pixel_dict = {}\n",
    "# set map resolution\n",
    "nside = 2048\n",
    "# get dust intensity map for d10 at 343 freq\n",
    "dust_map = hp.read_map('Downloads/d10_2048_343_I-2.fits')\n",
    "# subtract map smoothed to 2 degrees from original\n",
    "dust_map -= hp.sphtfunc.smoothing(dust_map, fwhm = 0.0349066, iter = 1)"
   ]
  },
  {
   "cell_type": "code",
   "execution_count": null,
   "id": "73ca5ec2-03ab-4783-91f0-c4839e4c43ec",
   "metadata": {},
   "outputs": [
    {
     "name": "stdout",
     "output_type": "stream",
     "text": [
      "50331648\n",
      "50331648\n"
     ]
    }
   ],
   "source": [
    "# sanity check that map is correct size\n",
    "print(len(dust_map))\n",
    "print(hp.nside2npix(2048))"
   ]
  },
  {
   "cell_type": "code",
   "execution_count": null,
   "id": "0398bd27-c1bf-4a33-a1f6-d93a1dd4d0da",
   "metadata": {},
   "outputs": [
    {
     "name": "stdout",
     "output_type": "stream",
     "text": [
      ".............................................................................................................................................................."
     ]
    }
   ],
   "source": [
    "for i in range(len(good_data)):\n",
    "    # get pixel associated with galaxy\n",
    "    pix = pixels[i]\n",
    "    \n",
    "    # get z_value associate with galaxy\n",
    "    gal_z = z.iloc[i]\n",
    "    \n",
    "    # if the pixel isn't already in the dictionary\n",
    "    # create z-list and get reddening values\n",
    "    if pix not in pixel_dict:\n",
    "\n",
    "        # get disc of surrounding for <E(B-V)>\n",
    "        ipix_disc = hp.query_disc(nside=nside,vec=vec[i],radius=np.radians(1))\n",
    "        \n",
    "        # get actual reddening value\n",
    "        act_red = dust_map[pix]\n",
    "        \n",
    "        # get average reddening value for disc\n",
    "        exp_red = np.mean(dust_map[ipix_disc])\n",
    "        \n",
    "        # make list to track z values in pixel\n",
    "        z_bins = np.zeros(16)\n",
    "        \n",
    "        # increment counter in correct z-bin\n",
    "        z_bins[get_z_bin(gal_z)] += 1\n",
    "        \n",
    "        # add list containing z-list, vec loc, actual red, <red>\n",
    "        pixel_dict[pix] = [ z_bins, vec[i], act_red, exp_red ]\n",
    "        \n",
    "    # otherwise just increment z-bin\n",
    "    else:\n",
    "        pixel_dict[pix][0][get_z_bin(gal_z)] += 1\n",
    "        \n",
    "    # this just tracks progress\n",
    "    if i % 100000 == 0:\n",
    "        print('.',end='')"
   ]
  },
  {
   "cell_type": "code",
   "execution_count": null,
   "id": "e5166723-63d9-4d3b-9856-230fcc59f391",
   "metadata": {},
   "outputs": [
    {
     "name": "stdout",
     "output_type": "stream",
     "text": [
      "12192245\n"
     ]
    }
   ],
   "source": [
    "# check number of pixels with >= 1 galaxy\n",
    "print(len(pixel_dict.keys()))"
   ]
  },
  {
   "cell_type": "code",
   "execution_count": null,
   "id": "444d8085-a5ea-4983-ad17-0c6ce12d3b54",
   "metadata": {},
   "outputs": [],
   "source": [
    "# returns the expected number of galaxies within a given redshift bin\n",
    "# for the spatial average over one square degree\n",
    "def get_surrounding_n(pix,bin):\n",
    "    # get the pixels within one square degree\n",
    "    z_disc = hp.query_disc(nside=nside,vec=pixel_dict[pix][1],radius=np.radians(0.5556))\n",
    "    \n",
    "    # start counter for galaxies\n",
    "    gal_count = 0\n",
    "    \n",
    "    # for each pixel, count galaxies in desired redshift bin\n",
    "    for p in z_disc:\n",
    "        if p in pixel_dict.keys():\n",
    "        # in pixel_dict for pixel p, in the z-bins, at the desired z-bin\n",
    "            gal_count += pixel_dict[p][0][bin]\n",
    "    \n",
    "    # return average galaxy count within the disk\n",
    "    return gal_count / len(z_disc)"
   ]
  },
  {
   "cell_type": "code",
   "execution_count": null,
   "id": "d4c785a1-ee94-4c25-b4f6-1512a449f2ea",
   "metadata": {},
   "outputs": [
    {
     "name": "stdout",
     "output_type": "stream",
     "text": [
      "[[], [], [], [], [], [], [], [], [], [], [], [], [], [], [], []]\n"
     ]
    }
   ],
   "source": [
    "# array to contain E(B-V) - <E(B-V)> for\n",
    "# each pixel\n",
    "delta_red = []\n",
    "\n",
    "# array to contain N / (<N> - 1) for\n",
    "# each z-bin for each pixel\n",
    "delta_r = []\n",
    "\n",
    "for i in range(16):\n",
    "    delta_r.append([])\n",
    "print(delta_r)"
   ]
  },
  {
   "cell_type": "code",
   "execution_count": 17,
   "id": "d0ac8622-bf30-4908-a8f7-8b66b2e3a730",
   "metadata": {},
   "outputs": [
    {
     "name": "stdout",
     "output_type": "stream",
     "text": [
      "........................................................................................................................."
     ]
    }
   ],
   "source": [
    "progress = 0\n",
    "\n",
    "# this cell takes ~ 10 hours to run so write\n",
    "# results to file to save progress\n",
    "with open('2048_343_data.csv','w') as f:\n",
    "    \n",
    "    # for each pixel in dictionary\n",
    "    for pix in pixel_dict.keys():\n",
    "        # csv has format\n",
    "        # pixel #,delta_r0,delta_r1,...,deltar_15,delta_red\n",
    "        f.write(str(pix))\n",
    "        f.write(',')\n",
    "        \n",
    "        # for each z-bin, get galaxy count, expected galaxy count\n",
    "        # and calculate delta_r equation\n",
    "        for i in range(len(delta_r)):\n",
    "            n_theta = pixel_dict[pix][0][i]\n",
    "            exp_n = get_surrounding_n(pix,i) - 1\n",
    "            \n",
    "            # make sure not to divide by 0\n",
    "            if exp_n != 0:\n",
    "                delta_r[i].append(n_theta / exp_n)\n",
    "                f.write(str(n_theta / exp_n))\n",
    "                f.write(',')\n",
    "                \n",
    "            # if denom is zero, append null\n",
    "            else:\n",
    "                delta_r[i].append('null')\n",
    "                f.write('null')\n",
    "                f.write(',')\n",
    "        \n",
    "        # calculate E(B-V) - <E(B-V)>\n",
    "        delta_red.append(pixel_dict[pix][2] - pixel_dict[pix][3])\n",
    "        f.write(str(pixel_dict[pix][2] - pixel_dict[pix][3]))\n",
    "        f.write('\\n')\n",
    "        \n",
    "        # track progress\n",
    "        progress += 1\n",
    "        if progress % 100000 == 0:\n",
    "            print('.',end='')\n",
    "f.close()"
   ]
  },
  {
   "cell_type": "code",
   "execution_count": 19,
   "id": "1ddbe0ad-1992-4935-a3fe-29c162b2b49e",
   "metadata": {},
   "outputs": [
    {
     "ename": "TypeError",
     "evalue": "write() argument must be str, not numpy.ndarray",
     "output_type": "error",
     "traceback": [
      "\u001b[0;31m---------------------------------------------------------------------------\u001b[0m",
      "\u001b[0;31mTypeError\u001b[0m                                 Traceback (most recent call last)",
      "Input \u001b[0;32mIn [19]\u001b[0m, in \u001b[0;36m<cell line: 14>\u001b[0;34m()\u001b[0m\n\u001b[1;32m     20\u001b[0m f\u001b[38;5;241m.\u001b[39mwrite(\u001b[38;5;124m'\u001b[39m\u001b[38;5;130;01m\\n\u001b[39;00m\u001b[38;5;124m'\u001b[39m)\n\u001b[1;32m     21\u001b[0m f\u001b[38;5;241m.\u001b[39mwrite(\u001b[38;5;124m'\u001b[39m\u001b[38;5;124mauto_corr_red: \u001b[39m\u001b[38;5;124m'\u001b[39m)\n\u001b[0;32m---> 22\u001b[0m \u001b[43mf\u001b[49m\u001b[38;5;241;43m.\u001b[39;49m\u001b[43mwrite\u001b[49m\u001b[43m(\u001b[49m\u001b[43mauto_corr_red\u001b[49m\u001b[43m)\u001b[49m\n\u001b[1;32m     23\u001b[0m f\u001b[38;5;241m.\u001b[39mwrite(\u001b[38;5;124m'\u001b[39m\u001b[38;5;130;01m\\n\u001b[39;00m\u001b[38;5;124m'\u001b[39m)\n\u001b[1;32m     24\u001b[0m f\u001b[38;5;241m.\u001b[39mclose()\n",
      "\u001b[0;31mTypeError\u001b[0m: write() argument must be str, not numpy.ndarray"
     ]
    }
   ],
   "source": [
    "# store cross-correlation of delta_r and delta_red\n",
    "corr_data = []\n",
    "# auto-correlations; didn't end up using\n",
    "auto_corr_r = []\n",
    "auto_corr_red = []\n",
    "\n",
    "# for each z-bin in delta_r\n",
    "for i in range(16):\n",
    "    \n",
    "    data_set = [[],[]]\n",
    "    \n",
    "    # for each element in delta_r\n",
    "    for j in range(len(delta_r[i])):\n",
    "        \n",
    "        # if not null, add elements to parallel arrays\n",
    "        if delta_r[i][j] != 'null':\n",
    "            data_set[0].append(delta_r[i][j])\n",
    "            data_set[1].append(delta_red[j])\n",
    "        \n",
    "    # create an auto-correlation array for delta_red (only once)\n",
    "    if len(auto_corr_red) ==  0:\n",
    "        auto_corr_red = np.correlate(data_set[1],data_set[1])\n",
    "        \n",
    "    # calculate each z-bin auto-correlation\n",
    "    auto_corr_r.append(np.correlate(data_set[0],data_set[0]))\n",
    "    \n",
    "    # calculate cross-correlation for each z-bin\n",
    "    corr_data.append(np.correlate(data_set[0],data_set[1]))\n",
    "    \n",
    "# write cross- and auto-correlations to csv file\n",
    "with open('2048_343_corr_data.csv', 'w') as f: \n",
    "    f.write('corr_data: ')\n",
    "    f.write(str(corr_data))\n",
    "    f.write('\\n')\n",
    "    f.write('auto_corr_r: ')\n",
    "    f.write(str(auto_corr_r))\n",
    "    f.write('\\n')\n",
    "    f.write('auto_corr_red: ')\n",
    "    f.write(str(auto_corr_red))\n",
    "    f.write('\\n')\n",
    "    f.close()\n",
    "    \n",
    "# sanity check if values look acceptable\n",
    "print(corr_data)\n",
    "print(auto_corr_r)\n",
    "print(auto_corr_red)"
   ]
  },
  {
   "cell_type": "code",
   "execution_count": 21,
   "id": "3d724199-d59a-4894-af81-70f34d6d77ac",
   "metadata": {},
   "outputs": [],
   "source": [
    "# create x-values for scatter plot\n",
    "x = np.linspace(0,0.25,17)\n",
    "# remove floor (0) from plots\n",
    "x = x[1:]"
   ]
  },
  {
   "cell_type": "code",
   "execution_count": 22,
   "id": "d039d5b7-4c1b-4146-bc6b-07e0dc1225d2",
   "metadata": {},
   "outputs": [
    {
     "data": {
      "image/png": "[encoded data removed]",
      "text/plain": [
       "<Figure size 432x288 with 1 Axes>"
      ]
     },
     "metadata": {
      "needs_background": "light"
     },
     "output_type": "display_data"
    }
   ],
   "source": [
    "plt.scatter(x,corr_data)\n",
    "plt.show()"
   ]
  },
  {
   "cell_type": "code",
   "execution_count": null,
   "id": "200b084c-194c-492f-a289-dd666695b3cf",
   "metadata": {},
   "outputs": [],
   "source": []
  }
 ],
 "metadata": {
  "kernelspec": {
   "display_name": "Python 3 (ipykernel)",
   "language": "python",
   "name": "python3"
  },
  "language_info": {
   "codemirror_mode": {
    "name": "ipython",
    "version": 3
   },
   "file_extension": ".py",
   "mimetype": "text/x-python",
   "name": "python",
   "nbconvert_exporter": "python",
   "pygments_lexer": "ipython3",
   "version": "3.10.5"
  }
 },
 "nbformat": 4,
 "nbformat_minor": 5
}
