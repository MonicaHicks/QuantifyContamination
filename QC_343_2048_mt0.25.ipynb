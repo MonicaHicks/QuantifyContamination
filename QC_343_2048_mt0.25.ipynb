{
 "cells": [
  {
   "cell_type": "code",
   "execution_count": 1,
   "id": "4c410758-ef14-4411-9055-e94101c93f09",
   "metadata": {},
   "outputs": [],
   "source": [
    "# %pip install healpy\n",
    "# %pip install astropy\n",
    "import healpy as hp\n",
    "import astropy\n",
    "from astropy.io import fits\n",
    "import numpy as np\n",
    "import matplotlib.pyplot as plt\n",
    "import pandas as pd\n",
    "from astropy.coordinates import SkyCoord"
   ]
  },
  {
   "cell_type": "code",
   "execution_count": 2,
   "id": "2e5dbe4e-80a7-4116-84d5-b1a74b78af34",
   "metadata": {},
   "outputs": [
    {
     "data": {
      "text/html": [
       "<div>\n",
       "<style scoped>\n",
       "    .dataframe tbody tr th:only-of-type {\n",
       "        vertical-align: middle;\n",
       "    }\n",
       "\n",
       "    .dataframe tbody tr th {\n",
       "        vertical-align: top;\n",
       "    }\n",
       "\n",
       "    .dataframe thead th {\n",
       "        text-align: right;\n",
       "    }\n",
       "</style>\n",
       "<table border=\"1\" class=\"dataframe\">\n",
       "  <thead>\n",
       "    <tr style=\"text-align: right;\">\n",
       "      <th></th>\n",
       "      <th>G_or_Q</th>\n",
       "      <th>RA</th>\n",
       "      <th>DEC</th>\n",
       "      <th>Pix</th>\n",
       "      <th>Z</th>\n",
       "    </tr>\n",
       "  </thead>\n",
       "  <tbody>\n",
       "    <tr>\n",
       "      <th>0</th>\n",
       "      <td>G</td>\n",
       "      <td>192.721451</td>\n",
       "      <td>41.120152</td>\n",
       "      <td>538552</td>\n",
       "      <td>0.000991</td>\n",
       "    </tr>\n",
       "    <tr>\n",
       "      <th>1</th>\n",
       "      <td>G</td>\n",
       "      <td>188.860123</td>\n",
       "      <td>14.496320</td>\n",
       "      <td>1179597</td>\n",
       "      <td>0.004120</td>\n",
       "    </tr>\n",
       "    <tr>\n",
       "      <th>2</th>\n",
       "      <td>G</td>\n",
       "      <td>267.360474</td>\n",
       "      <td>70.144341</td>\n",
       "      <td>93102</td>\n",
       "      <td>0.001000</td>\n",
       "    </tr>\n",
       "    <tr>\n",
       "      <th>3</th>\n",
       "      <td>G</td>\n",
       "      <td>187.016220</td>\n",
       "      <td>9.803620</td>\n",
       "      <td>1304536</td>\n",
       "      <td>0.003557</td>\n",
       "    </tr>\n",
       "    <tr>\n",
       "      <th>4</th>\n",
       "      <td>G</td>\n",
       "      <td>187.367000</td>\n",
       "      <td>8.749890</td>\n",
       "      <td>1333206</td>\n",
       "      <td>0.004139</td>\n",
       "    </tr>\n",
       "  </tbody>\n",
       "</table>\n",
       "</div>"
      ],
      "text/plain": [
       "  G_or_Q          RA        DEC      Pix         Z\n",
       "0      G  192.721451  41.120152   538552  0.000991\n",
       "1      G  188.860123  14.496320  1179597  0.004120\n",
       "2      G  267.360474  70.144341    93102  0.001000\n",
       "3      G  187.016220   9.803620  1304536  0.003557\n",
       "4      G  187.367000   8.749890  1333206  0.004139"
      ]
     },
     "execution_count": 2,
     "metadata": {},
     "output_type": "execute_result"
    }
   ],
   "source": [
    "# Read in 22.5 million data elements\n",
    "data = pd.read_csv('/Users/monicahicks/GLADE+512.csv')\n",
    "# Print first 5 row for format check\n",
    "data.head(5)"
   ]
  },
  {
   "cell_type": "code",
   "execution_count": 3,
   "id": "a7a207dd-b390-4e38-91ee-dbc92e910194",
   "metadata": {},
   "outputs": [],
   "source": [
    "# This is SO FREAKING FAST literally 1000x faster than a loop\n",
    "good_data = data.loc[(data.Z > 0.25) & (data.Z < 0.5)]"
   ]
  },
  {
   "cell_type": "code",
   "execution_count": 4,
   "id": "0320af00-a28e-4a6b-9947-5cdbdceb4e23",
   "metadata": {},
   "outputs": [
    {
     "name": "stdout",
     "output_type": "stream",
     "text": [
      "6097735\n"
     ]
    }
   ],
   "source": [
    "# sanity check on elements in desired set\n",
    "print(len(good_data))"
   ]
  },
  {
   "cell_type": "code",
   "execution_count": 5,
   "id": "33d00862-2931-44ab-977f-97cd0b94ba4f",
   "metadata": {},
   "outputs": [],
   "source": [
    "# get galaxy icrs coordinates from RA/Dec coordinates\n",
    "# creates 3 equal length paralell arrays\n",
    "ra = good_data['RA']\n",
    "dec = good_data['DEC']\n",
    "coords = SkyCoord(ra=ra, dec=dec, unit=\"deg\", frame='icrs')"
   ]
  },
  {
   "cell_type": "code",
   "execution_count": 6,
   "id": "20e63c46-9f30-42f4-b726-e98db59b11df",
   "metadata": {},
   "outputs": [],
   "source": [
    "vec = hp.ang2vec(theta=np.pi / 2.0 - np.radians(coords.galactic.b.value), phi=np.radians(coords.galactic.l.value),lonlat=False)\n",
    "pixels = hp.ang2pix(nside=2048,theta=np.pi / 2.0 - np.radians(coords.galactic.b.value), phi=np.radians(coords.galactic.l.value),lonlat=False)"
   ]
  },
  {
   "cell_type": "code",
   "execution_count": 7,
   "id": "8db60880-cdbb-45a5-89bd-b6841221dea7",
   "metadata": {},
   "outputs": [
    {
     "name": "stdout",
     "output_type": "stream",
     "text": [
      "6097735\n"
     ]
    }
   ],
   "source": [
    "z = good_data['Z']\n",
    "print(len(z))"
   ]
  },
  {
   "cell_type": "code",
   "execution_count": 8,
   "id": "6451767d-b81b-465e-ac9f-14cdbf34e099",
   "metadata": {},
   "outputs": [],
   "source": [
    "def get_z_bin(z):\n",
    "    bins = np.linspace(0.25,0.5,17)\n",
    "    for i in range(len(bins)):\n",
    "        if z < bins[i]:\n",
    "            return i - 1\n",
    "    return 15"
   ]
  },
  {
   "cell_type": "code",
   "execution_count": 9,
   "id": "4d5be40d-11d9-4c6a-b6ab-198aff5fe7ec",
   "metadata": {},
   "outputs": [
    {
     "name": "stdout",
     "output_type": "stream",
     "text": [
      "0.27 1\n",
      "0.291 2\n",
      "0.05 -1\n"
     ]
    }
   ],
   "source": [
    "print(0.27,get_z_bin(0.27))\n",
    "print(0.291,get_z_bin(0.291))\n",
    "print(0.05,get_z_bin(0.05))"
   ]
  },
  {
   "cell_type": "code",
   "execution_count": 11,
   "id": "f1010de7-ca65-4622-ba20-f86b45659a78",
   "metadata": {},
   "outputs": [],
   "source": [
    "pixel_dict = {}\n",
    "nside = 2048\n",
    "dust_map = hp.read_map('d10_2048_343_I-2.fits')\n",
    "# subtract map smoothed to 4 degrees from original\n",
    "dust_map -= hp.sphtfunc.smoothing(dust_map, fwhm = 0.069813, iter = 1)"
   ]
  },
  {
   "cell_type": "code",
   "execution_count": 12,
   "id": "2825c7e9-85f3-41c1-9c02-0547fb97ea5f",
   "metadata": {},
   "outputs": [
    {
     "name": "stdout",
     "output_type": "stream",
     "text": [
      "50331648\n",
      "50331648\n"
     ]
    }
   ],
   "source": [
    "print(len(dust_map))\n",
    "print(hp.nside2npix(2048))"
   ]
  },
  {
   "cell_type": "code",
   "execution_count": 13,
   "id": "7ebb68d4-6847-4d6b-8b83-c92666339564",
   "metadata": {},
   "outputs": [
    {
     "name": "stdout",
     "output_type": "stream",
     "text": [
      "............................................................."
     ]
    }
   ],
   "source": [
    "for i in range(len(good_data)):\n",
    "    # get pixel associated with galaxy\n",
    "    pix = pixels[i]\n",
    "    \n",
    "    #print(pix)\n",
    "    \n",
    "    # get z_value associate with galaxy\n",
    "    gal_z = z.iloc[i]\n",
    "    \n",
    "    # if the pixel isn't already in the dictionary\n",
    "    # create z-list and get reddening values\n",
    "    if pix not in pixel_dict:\n",
    "\n",
    "        # get disc of surrounding for <E(B-V)>\n",
    "        ipix_disc = hp.query_disc(nside=nside,vec=vec[i],radius=np.radians(1))\n",
    "        \n",
    "        # get actual reddening value\n",
    "        act_red = dust_map[pix]\n",
    "        \n",
    "        # get average reddening value for disc\n",
    "        exp_red = np.mean(dust_map[ipix_disc])\n",
    "        \n",
    "        # make list to track z values in pixel\n",
    "        z_bins = np.zeros(16)\n",
    "        \n",
    "        # increment counter in correct z-bin\n",
    "        z_bins[get_z_bin(gal_z)] += 1\n",
    "        \n",
    "        # add list containing z-list, actual red, <red>\n",
    "        pixel_dict[pix] = [ z_bins, vec[i], act_red, exp_red ]\n",
    "        \n",
    "    # otherwise just increment z-bin\n",
    "    else:\n",
    "        pixel_dict[pix][0][get_z_bin(gal_z)] += 1\n",
    "        \n",
    "    # this just tracks progress\n",
    "    if i % 100000 == 0:\n",
    "        print('.',end='')"
   ]
  },
  {
   "cell_type": "code",
   "execution_count": 14,
   "id": "3f71b385-8bd4-43cc-b850-543b3b1525c5",
   "metadata": {},
   "outputs": [
    {
     "name": "stdout",
     "output_type": "stream",
     "text": [
      "5405440\n"
     ]
    }
   ],
   "source": [
    "print(len(pixel_dict.keys()))"
   ]
  },
  {
   "cell_type": "code",
   "execution_count": 15,
   "id": "4e5e8603-6abd-4a48-9023-5eaa9128f308",
   "metadata": {},
   "outputs": [],
   "source": [
    "def get_surrounding_n(pix,bin):\n",
    "    # get the pixels with one square degree\n",
    "    z_disc = hp.query_disc(nside=nside,vec=pixel_dict[pix][1],radius=np.radians(0.5556))\n",
    "    \n",
    "    # start counter for galaxies\n",
    "    gal_count = 0\n",
    "    \n",
    "    # for each pixel, count galaxies in desired redshift bin\n",
    "    for p in z_disc:\n",
    "        if p in pixel_dict.keys():\n",
    "        # in pixel_dict for pixel p, in the z-bins, at the desired z-bin\n",
    "            gal_count += pixel_dict[p][0][bin]\n",
    "            \n",
    "    return gal_count / len(z_disc)"
   ]
  },
  {
   "cell_type": "code",
   "execution_count": 16,
   "id": "bcb1cd81-8562-4ce3-87a7-fc223865a0d4",
   "metadata": {},
   "outputs": [
    {
     "name": "stdout",
     "output_type": "stream",
     "text": [
      "[[], [], [], [], [], [], [], [], [], [], [], [], [], [], [], []]\n"
     ]
    }
   ],
   "source": [
    "delta_red = []\n",
    "delta_r = []\n",
    "for i in range(16):\n",
    "    delta_r.append([])\n",
    "print(delta_r)"
   ]
  },
  {
   "cell_type": "code",
   "execution_count": 17,
   "id": "0bec14ec-3fc3-4f4c-a72e-cb5da5254243",
   "metadata": {},
   "outputs": [
    {
     "name": "stdout",
     "output_type": "stream",
     "text": [
      "......................................................"
     ]
    }
   ],
   "source": [
    "f1 = 0\n",
    "with open('2048_343_data_mt_25.csv','w') as f:\n",
    "    for pix in pixel_dict.keys():\n",
    "        f.write(str(pix))\n",
    "        f.write(',')\n",
    "        for i in range(len(delta_r)):\n",
    "            n_theta = pixel_dict[pix][0][i]\n",
    "            exp_n = get_surrounding_n(pix,i) - 1\n",
    "            if exp_n != 0:\n",
    "                delta_r[i].append(n_theta / exp_n)\n",
    "                f.write(str(n_theta / exp_n))\n",
    "                f.write(',')\n",
    "            else:\n",
    "                delta_r[i].append('null')\n",
    "                f.write('null')\n",
    "                f.write(',')\n",
    "        delta_red.append(pixel_dict[pix][2] - pixel_dict[pix][3])\n",
    "        f.write(str(pixel_dict[pix][2] - pixel_dict[pix][3]))\n",
    "        f.write('\\n')\n",
    "        f1 += 1\n",
    "        if f1 % 100000 == 0:\n",
    "            print('.',end='')\n",
    "f.close()"
   ]
  },
  {
   "cell_type": "code",
   "execution_count": 18,
   "id": "8705037e-c8a6-4195-90d4-315b9a748bcf",
   "metadata": {},
   "outputs": [
    {
     "name": "stdout",
     "output_type": "stream",
     "text": [
      "[array([576514.92755357]), array([520709.53439014]), array([414624.33564121]), array([307950.38984074]), array([207060.64284793]), array([159544.3798582]), array([112590.26340932]), array([79014.860787]), array([64763.89887758]), array([41554.64758364]), array([33900.98110298]), array([13373.94732963]), array([9929.62061345]), array([5198.28877265]), array([5595.34020391]), array([2115.62276936])]\n",
      "[array([1533010.05142511]), array([1389454.90809023]), array([1082764.81811052]), array([740034.40366234]), array([510918.70977975]), array([357075.35782075]), array([253099.75495408]), array([181783.96186003]), array([140819.63725959]), array([105722.6236331]), array([91602.71278082]), array([88115.17066827]), array([95121.98785872]), array([103522.46456397]), array([64901.822567]), array([7964.7139864])]\n",
      "[3.8800378e+08]\n"
     ]
    }
   ],
   "source": [
    "corr_data = []\n",
    "auto_corr_r = []\n",
    "auto_corr_red = []\n",
    "for i in range(16):\n",
    "    data_set = [[],[]]\n",
    "    for j in range(len(delta_r[i])):\n",
    "        if delta_r[i][j] != 'null':\n",
    "            data_set[0].append(delta_r[i][j])\n",
    "            data_set[1].append(delta_red[j])\n",
    "    if len(auto_corr_red) ==  0:\n",
    "        auto_corr_red = np.correlate(data_set[1],data_set[1])\n",
    "    auto_corr_r.append(np.correlate(data_set[0],data_set[0]))\n",
    "    corr_data.append(np.correlate(data_set[0],data_set[1]))\n",
    "with open('2048_343_corr_data_mt25.csv', 'w') as f: \n",
    "    f.write('corr_data: ')\n",
    "    f.write(str(corr_data))\n",
    "    f.write('\\n')\n",
    "    f.write('auto_corr_r: ')\n",
    "    f.write(str(auto_corr_r))\n",
    "    f.write('\\n')\n",
    "    f.write('auto_corr_red: ')\n",
    "    f.write(str(auto_corr_red))\n",
    "    f.write('\\n')\n",
    "    f.close()\n",
    "print(corr_data)\n",
    "print(auto_corr_r)\n",
    "print(auto_corr_red)"
   ]
  },
  {
   "cell_type": "code",
   "execution_count": 19,
   "id": "3888d551-af8c-4930-9659-58277b87f4e1",
   "metadata": {},
   "outputs": [],
   "source": [
    "x = np.linspace(0.25,0.5,17)\n",
    "x = x[1:]"
   ]
  },
  {
   "cell_type": "code",
   "execution_count": 20,
   "id": "dae490ce-175c-45ce-b78a-91dd15605f49",
   "metadata": {},
   "outputs": [
    {
     "data": {
      "image/png": "[encoded data removed]",
      "text/plain": [
       "<Figure size 432x288 with 1 Axes>"
      ]
     },
     "metadata": {
      "needs_background": "light"
     },
     "output_type": "display_data"
    }
   ],
   "source": [
    "plt.scatter(x,corr_data)\n",
    "plt.show()"
   ]
  },
  {
   "cell_type": "code",
   "execution_count": null,
   "id": "31a86752-06e7-4b35-bc4a-c7486a6ef2d0",
   "metadata": {},
   "outputs": [],
   "source": []
  }
 ],
 "metadata": {
  "kernelspec": {
   "display_name": "Python 3 (ipykernel)",
   "language": "python",
   "name": "python3"
  },
  "language_info": {
   "codemirror_mode": {
    "name": "ipython",
    "version": 3
   },
   "file_extension": ".py",
   "mimetype": "text/x-python",
   "name": "python",
   "nbconvert_exporter": "python",
   "pygments_lexer": "ipython3",
   "version": "3.10.5"
  }
 },
 "nbformat": 4,
 "nbformat_minor": 5
}
