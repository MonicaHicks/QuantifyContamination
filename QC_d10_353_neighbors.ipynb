{
 "cells": [
  {
   "cell_type": "code",
   "execution_count": 2,
   "id": "b15942e7-413a-41be-80a8-2858fc1513b6",
   "metadata": {},
   "outputs": [],
   "source": [
    "# %pip install healpy\n",
    "# %pip install astropy\n",
    "# %pip install tqdm\n",
    "import healpy as hp\n",
    "import astropy\n",
    "from astropy.io import fits\n",
    "import numpy as np\n",
    "import matplotlib.pyplot as plt\n",
    "import pandas as pd\n",
    "from astropy.coordinates import SkyCoord\n",
    "from tqdm import tqdm"
   ]
  },
  {
   "cell_type": "markdown",
   "id": "85157a6e-f770-4805-af92-8bcff716e23a",
   "metadata": {},
   "source": [
    "### Get Z-Bins"
   ]
  },
  {
   "cell_type": "code",
   "execution_count": 3,
   "id": "96f8edd3-5fe8-4c81-85c9-488c77c4ab41",
   "metadata": {},
   "outputs": [],
   "source": [
    "z_bins = np.linspace(0,1,41)\n",
    "z_bins = z_bins[1:]"
   ]
  },
  {
   "cell_type": "code",
   "execution_count": 4,
   "id": "97d61963-9dae-4871-a7a6-220311d33ee1",
   "metadata": {},
   "outputs": [
    {
     "data": {
      "text/plain": [
       "array([0.025, 0.05 , 0.075, 0.1  , 0.125, 0.15 , 0.175, 0.2  , 0.225,\n",
       "       0.25 , 0.275, 0.3  , 0.325, 0.35 , 0.375, 0.4  , 0.425, 0.45 ,\n",
       "       0.475, 0.5  , 0.525, 0.55 , 0.575, 0.6  , 0.625, 0.65 , 0.675,\n",
       "       0.7  , 0.725, 0.75 , 0.775, 0.8  , 0.825, 0.85 , 0.875, 0.9  ,\n",
       "       0.925, 0.95 , 0.975, 1.   ])"
      ]
     },
     "execution_count": 4,
     "metadata": {},
     "output_type": "execute_result"
    }
   ],
   "source": [
    "z_bins"
   ]
  },
  {
   "cell_type": "markdown",
   "id": "80494b84-2b27-43a8-81f3-fb92edc25cf8",
   "metadata": {},
   "source": [
    "### Get Galaxy Data"
   ]
  },
  {
   "cell_type": "code",
   "execution_count": 5,
   "id": "2e8ffdd6-7176-4b2e-b851-187c3dffccea",
   "metadata": {},
   "outputs": [],
   "source": [
    "# Read in 22.5 million data elements\n",
    "data = pd.read_csv('GLADE+_2048.csv')\n",
    "# gives only galaxies in our redshift bin\n",
    "data = data.loc[(data.Z > 0) & (data.Z < np.max(z_bins))]"
   ]
  },
  {
   "cell_type": "code",
   "execution_count": 6,
   "id": "0ba2ea4a-b787-4c5b-9a00-012094e65606",
   "metadata": {},
   "outputs": [
    {
     "data": {
      "text/plain": [
       "Unnamed: 0      int64\n",
       "Pix             int64\n",
       "Z             float64\n",
       "Z_bin           int32\n",
       "dtype: object"
      ]
     },
     "execution_count": 6,
     "metadata": {},
     "output_type": "execute_result"
    }
   ],
   "source": [
    "# I use parallel arrays to get around using data.iloc[i] repeatedly\n",
    "pixels = data.Pix\n",
    "z = data.Z\n",
    "z_bin = data.Z_bin\n",
    "# I accidentally saved my bins as floats -- can't use an index\n",
    "# will fix, but for now just casting\n",
    "data.astype({'Z_bin': 'int32'}).dtypes"
   ]
  },
  {
   "cell_type": "markdown",
   "id": "faded324-6b18-49b8-aed9-02f45fa32f3c",
   "metadata": {},
   "source": [
    "### Get D10 Dust Map"
   ]
  },
  {
   "cell_type": "code",
   "execution_count": 7,
   "id": "58ec33a0-9754-4a8f-9550-48466a46cf3f",
   "metadata": {},
   "outputs": [
    {
     "data": {
      "text/plain": [
       "'\\n# dust map smoothed to 1 degree\\nsmooth_dust_map = hp.sphtfunc.smoothing(dust_map, fwhm=0.0174533, iter=1)\\n'"
      ]
     },
     "execution_count": 7,
     "metadata": {},
     "output_type": "execute_result"
    }
   ],
   "source": [
    "# set map resolution\n",
    "nside = 2048\n",
    "\n",
    "# read in dust model map\n",
    "dust_map = hp.read_map('d10_2048_353_I.fits')\n",
    "\n",
    "npixels = len(dust_map)\n",
    "\"\"\"\n",
    "# dust map smoothed to 1 degree\n",
    "smooth_dust_map = hp.sphtfunc.smoothing(dust_map, fwhm=0.0174533, iter=1)\n",
    "\"\"\""
   ]
  },
  {
   "cell_type": "markdown",
   "id": "12c4a069-4fde-4c58-b77b-4bd1232004a6",
   "metadata": {},
   "source": [
    "### Use Histograms to Create Galaxy Maps by Redshift Bin"
   ]
  },
  {
   "cell_type": "code",
   "execution_count": 8,
   "id": "8be90216-da77-41de-af1b-a5383b3fbec1",
   "metadata": {},
   "outputs": [
    {
     "name": "stderr",
     "output_type": "stream",
     "text": [
      "100%|███████████████████████████████████████████| 40/40 [05:34<00:00,  8.37s/it]\n"
     ]
    }
   ],
   "source": [
    "n_zbins = len(z_bins)\n",
    "\n",
    "# create a blank map for each z-bin\n",
    "z_maps = []\n",
    "\n",
    "bins = np.arange(npixels + 1)\n",
    "\n",
    "for i in tqdm(range(n_zbins)):\n",
    "    pix_for_zbin_i_gal = pixels[z_bin == i]\n",
    "    N_galaxies_in_zbin_i_in_each_pixel, bin_edges = np.histogram(pix_for_zbin_i_gal, bins=bins)\n",
    "    z_maps.append(N_galaxies_in_zbin_i_in_each_pixel)"
   ]
  },
  {
   "cell_type": "code",
   "execution_count": 9,
   "id": "64b01b1a-cb2a-4a11-8bb6-5ebcd8403528",
   "metadata": {},
   "outputs": [
    {
     "data": {
      "image/png": "[encoded data removed]",
      "text/plain": [
       "<Figure size 612x388.8 with 2 Axes>"
      ]
     },
     "metadata": {
      "needs_background": "light"
     },
     "output_type": "display_data"
    }
   ],
   "source": [
    "hp.mollview(z_maps[0],max=2)"
   ]
  },
  {
   "cell_type": "markdown",
   "id": "7afd30bf-23e0-42a6-946d-e3cde356b55c",
   "metadata": {},
   "source": [
    "### Create Lists to Hold Correlation Data and Create Sky Mask"
   ]
  },
  {
   "cell_type": "code",
   "execution_count": 10,
   "id": "dfd2c089-16b4-435e-9596-5ab1e48531a9",
   "metadata": {},
   "outputs": [],
   "source": [
    "corr_red = []\n",
    "\n",
    "# this array will hold delta_r for each zbin\n",
    "corr_bins = []\n",
    "for i in range(40):\n",
    "    corr_bins.append([])\n",
    "\n",
    "mask_pix = np.arange(npixels)\n",
    "mask_pix = [p for p in mask_pix if p < 15000000 or p > 35000000]"
   ]
  },
  {
   "cell_type": "code",
   "execution_count": 11,
   "id": "986731aa-a796-45d8-a341-2fdc632fe5d7",
   "metadata": {},
   "outputs": [
    {
     "data": {
      "image/png": "[encoded data removed]",
      "text/plain": [
       "<Figure size 612x388.8 with 2 Axes>"
      ]
     },
     "metadata": {
      "needs_background": "light"
     },
     "output_type": "display_data"
    }
   ],
   "source": [
    "sample_mask = np.zeros(npixels)\n",
    "sample_mask[15000000:35000000] = 1\n",
    "hp.mollview(sample_mask,title='Mask to Exclude Galactic Plane',cmap='Greys',min=-1)"
   ]
  },
  {
   "cell_type": "markdown",
   "id": "550bbeb6-2af6-46d0-b125-739629a0f8e0",
   "metadata": {},
   "source": [
    "### Use Mean of Neighboring Pixels to Get Correlation Data"
   ]
  },
  {
   "cell_type": "code",
   "execution_count": 12,
   "id": "5fdd9f59-ba34-46df-b44e-c9cc426743ac",
   "metadata": {},
   "outputs": [
    {
     "name": "stderr",
     "output_type": "stream",
     "text": [
      "100%|███████████████████████████| 30331647/30331647 [2:40:12<00:00, 3155.39it/s]\n"
     ]
    }
   ],
   "source": [
    "for p in tqdm(mask_pix):\n",
    "    vec = vec = hp.pix2vec(nside=nside,ipix=p)\n",
    "    pix_disc = hp.query_disc(nside=2048,vec=vec,radius=np.radians(0.0174533))\n",
    "    corr_red.append(np.mean(dust_map[pix_disc]))\n",
    "    for i in range(n_zbins):\n",
    "        corr_bins[i].append(np.mean(z_maps[i][pix_disc]))"
   ]
  },
  {
   "cell_type": "markdown",
   "id": "9d568bfa-895a-4a73-ab6c-a52e1be71388",
   "metadata": {},
   "source": [
    "### Cross-Correlate Galaxy Data with Dust Map Data"
   ]
  },
  {
   "cell_type": "code",
   "execution_count": 17,
   "id": "bf37526d-fc92-4b95-b806-3fbb1d855b6a",
   "metadata": {},
   "outputs": [
    {
     "name": "stderr",
     "output_type": "stream",
     "text": [
      " 85%|████████████████████████████████████████████████████████████████████████▎            | 34/40 [3:28:42<35:17, 352.97s/it]IOStream.flush timed out\n",
      " 90%|████████████████████████████████████████████████████████████████████████████▌        | 36/40 [3:40:57<24:00, 360.03s/it]IOStream.flush timed out\n",
      "100%|█████████████████████████████████████████████████████████████████████████████████████| 40/40 [4:05:06<00:00, 367.66s/it]\n"
     ]
    }
   ],
   "source": [
    "# store cross-correlation data\n",
    "corr_data = np.zeros(len(corr_bins))\n",
    "\n",
    "for i in tqdm(range(len(corr_bins))):\n",
    "    corr_data[i] = np.correlate(corr_bins[i],corr_red)"
   ]
  },
  {
   "cell_type": "code",
   "execution_count": 16,
   "id": "b8a5dd55-a5ff-4923-bb7a-d044a506adec",
   "metadata": {},
   "outputs": [
    {
     "name": "stdout",
     "output_type": "stream",
     "text": [
      "40\n"
     ]
    }
   ],
   "source": [
    "print(len(corr_data))"
   ]
  },
  {
   "cell_type": "markdown",
   "id": "b8b9d670-f7db-4834-af3d-0d2c22d6f1ca",
   "metadata": {},
   "source": [
    "### Plot Masked Data vs. Unmasked Data"
   ]
  },
  {
   "cell_type": "code",
   "execution_count": 19,
   "id": "fa8187a0-fb93-46c5-a649-02b96ace18b7",
   "metadata": {},
   "outputs": [
    {
     "data": {
      "image/png": "[encoded data removed]",
      "text/plain": [
       "<Figure size 432x288 with 1 Axes>"
      ]
     },
     "metadata": {
      "needs_background": "light"
     },
     "output_type": "display_data"
    }
   ],
   "source": [
    "plt.scatter(z_bins,corr_data,color=(0.5,0.0,0.9,0.3))\n",
    "plt.title('Contamination in D10 @ 353GHz Neighbors Masked')\n",
    "plt.xlabel('Redshift (z)')\n",
    "plt.ylabel('Correlation')\n",
    "plt.show()"
   ]
  },
  {
   "cell_type": "code",
   "execution_count": 21,
   "id": "ecc53e84-a169-49bd-9a3d-4319264c7d23",
   "metadata": {},
   "outputs": [
    {
     "name": "stdout",
     "output_type": "stream",
     "text": [
      "30331647\n"
     ]
    }
   ],
   "source": [
    "print(len(corr_bins[0]))"
   ]
  },
  {
   "cell_type": "code",
   "execution_count": null,
   "id": "4885ef1b-ce74-45fc-9bd0-76d5327c42f5",
   "metadata": {},
   "outputs": [],
   "source": []
  }
 ],
 "metadata": {
  "kernelspec": {
   "display_name": "Python 3 (ipykernel)",
   "language": "python",
   "name": "python3"
  },
  "language_info": {
   "codemirror_mode": {
    "name": "ipython",
    "version": 3
   },
   "file_extension": ".py",
   "mimetype": "text/x-python",
   "name": "python",
   "nbconvert_exporter": "python",
   "pygments_lexer": "ipython3",
   "version": "3.10.5"
  }
 },
 "nbformat": 4,
 "nbformat_minor": 5
}
