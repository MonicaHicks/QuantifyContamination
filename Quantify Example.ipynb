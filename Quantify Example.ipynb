{
 "cells": [
  {
   "cell_type": "markdown",
   "id": "b0c5a0c6-2ebe-4d2a-b779-627008d50781",
   "metadata": {},
   "source": [
    "## <center> Quantifying Extragalactic Contamination in Dust Intensity Maps Generated Using PySM </center>"
   ]
  },
  {
   "cell_type": "code",
   "execution_count": 1,
   "id": "5a449164-b41e-4d3e-bd77-e04f0afd29b8",
   "metadata": {},
   "outputs": [],
   "source": [
    "import pysm3\n",
    "from pysm3 import units as u\n",
    "import pandas as pd\n",
    "import healpy as hp\n",
    "import numpy as np\n",
    "import matplotlib.pyplot as plt"
   ]
  },
  {
   "cell_type": "markdown",
   "id": "37122adf-88bb-4b08-9d5c-d4f345e2e4d6",
   "metadata": {},
   "source": [
    "#### Use PySM to Generate Dust Intensity Map"
   ]
  },
  {
   "cell_type": "code",
   "execution_count": 2,
   "id": "ca7065ef-0512-458a-845a-0dd68d54a9eb",
   "metadata": {},
   "outputs": [],
   "source": [
    "nside = 2048\n",
    "freq = 353 * u.GHz\n",
    "sky_model = pysm3.Sky(preset_strings=['d1'],nside=nside)\n",
    "dust_i_map = sky_model.get_emission(freq)[0]"
   ]
  },
  {
   "cell_type": "markdown",
   "id": "750ef4b2-004d-49f1-85cb-6cbd14362b7e",
   "metadata": {},
   "source": [
    "#### Generate Mask to Omit Between -30. and 30. Dec"
   ]
  },
  {
   "cell_type": "code",
   "execution_count": 3,
   "id": "4eb2c0da-d613-4aad-a3a7-43d1e8ba3637",
   "metadata": {},
   "outputs": [],
   "source": [
    "npixels = 12 * nside ** 2\n",
    "pixindx = np.arange(npixels)\n",
    "l_pix, b_pix = hp.pix2ang(nside,pixindx,lonlat=True)\n",
    "mask_pixels = pixindx[np.abs(b_pix) < 30.]\n",
    "good_pixels = pixindx[np.abs(b_pix) > 30.]"
   ]
  },
  {
   "cell_type": "markdown",
   "id": "11582efb-d6e6-41e8-a983-42a001352a94",
   "metadata": {},
   "source": [
    "#### Read in Galaxy Catalog"
   ]
  },
  {
   "cell_type": "code",
   "execution_count": 4,
   "id": "11c37dfe-07e3-4537-b47a-9e3d645cfc4f",
   "metadata": {},
   "outputs": [],
   "source": [
    "galaxy_data = pd.read_csv('Downloads/GLADE+_2048.csv')\n",
    "galaxy_data = galaxy_data.loc[(galaxy_data.Z > 0) & (galaxy_data.Z < 3.1488)]\n",
    "galaxy_data = galaxy_data.loc[(galaxy_data.Pix < mask_pixels[0]) | (galaxy_data.Pix > mask_pixels[-1])]\n",
    "pixels = galaxy_data.Pix\n",
    "z_bin_i = galaxy_data.Z_bin"
   ]
  },
  {
   "cell_type": "markdown",
   "id": "0adb855a-e039-43da-8859-69e7c9c52a4b",
   "metadata": {},
   "source": [
    "#### Get Z-bins from Tomographer Binning"
   ]
  },
  {
   "cell_type": "code",
   "execution_count": 5,
   "id": "10cba73b-f550-48c7-9d6c-ab9315ef8b39",
   "metadata": {},
   "outputs": [],
   "source": [
    "tomo_z_bin = pd.read_csv('Downloads/Tomographer_GLADE+.csv')['z']"
   ]
  },
  {
   "cell_type": "markdown",
   "id": "f272a3b4-2cad-40e1-9ef1-b8ee44590625",
   "metadata": {},
   "source": [
    "#### Generate Galaxy Density Maps for Each Z-bin"
   ]
  },
  {
   "cell_type": "code",
   "execution_count": 6,
   "id": "0a6b0290-e275-406d-ab0c-a6fc994be508",
   "metadata": {},
   "outputs": [],
   "source": [
    "z_maps = []\n",
    "n_zbins = len(tomo_z_bin)\n",
    "bins = np.arange(npixels + 1)\n",
    "\n",
    "for i in range(len(tomo_z_bin)):\n",
    "    pix_zbin_i = pixels[z_bin_i == i]\n",
    "    n_gal_in_zbin_ppix, bin_edges = np.histogram(pix_zbin_i,bins=bins)\n",
    "    z_maps.append(n_gal_in_zbin_ppix)"
   ]
  },
  {
   "cell_type": "markdown",
   "id": "bdf4c135-65ca-49db-921c-03c408391ab0",
   "metadata": {},
   "source": [
    "#### Generate Smoothed Maps"
   ]
  },
  {
   "cell_type": "code",
   "execution_count": 7,
   "id": "9d3cb185-2480-47d9-bf37-15a3c72bd6fa",
   "metadata": {},
   "outputs": [],
   "source": [
    "smooth_dim = hp.sphtfunc.smoothing(dust_i_map,fwhm=np.radians(1))\n",
    "smooth_zm = [hp.sphtfunc.smoothing(x,fwhm=0.562) for x in z_maps]"
   ]
  },
  {
   "cell_type": "markdown",
   "id": "f50b7643-274f-4914-b5e2-459758994621",
   "metadata": {},
   "source": [
    "#### Preprocess Data for Correlation"
   ]
  },
  {
   "cell_type": "code",
   "execution_count": 8,
   "id": "72fcbdfa-5611-4a11-ad69-e1e4dcdcb87a",
   "metadata": {},
   "outputs": [],
   "source": [
    "corr_red = np.subtract(dust_i_map[good_pixels].value,smooth_dim[good_pixels])"
   ]
  },
  {
   "cell_type": "code",
   "execution_count": 9,
   "id": "fc052483-a200-4bb9-817b-78caf5a06123",
   "metadata": {},
   "outputs": [],
   "source": [
    "corr_bins = []\n",
    "ones_arr = np.ones(len(good_pixels))\n",
    "\n",
    "for i in range(n_zbins):\n",
    "    exp_gal_count = np.subtract(smooth_zm[i][good_pixels],ones_arr)\n",
    "    act_gal_count = z_maps[i][good_pixels]\n",
    "    corr_bins.append(np.divide(act_gal_count,exp_gal_count))"
   ]
  },
  {
   "cell_type": "markdown",
   "id": "42f12846-f717-4093-a6d9-478a1e5f4ffd",
   "metadata": {},
   "source": [
    "#### Cross-correlate Data"
   ]
  },
  {
   "cell_type": "code",
   "execution_count": 10,
   "id": "6cc95436-0965-4c0b-9cae-366acaf4052e",
   "metadata": {},
   "outputs": [],
   "source": [
    "corr_data = []\n",
    "for i in range(n_zbins):\n",
    "    corr_data.append(np.correlate(corr_red,corr_bins[i]))"
   ]
  },
  {
   "cell_type": "markdown",
   "id": "e598931b-a546-414b-9e50-c8a3ebabb197",
   "metadata": {},
   "source": [
    "#### Plot Results"
   ]
  },
  {
   "cell_type": "code",
   "execution_count": 11,
   "id": "24b91190-ae08-44d6-b18c-47dfbdbc7a10",
   "metadata": {},
   "outputs": [
    {
     "data": {
      "image/png": "[encoded data removed]",
      "text/plain": [
       "<Figure size 432x288 with 1 Axes>"
      ]
     },
     "metadata": {
      "needs_background": "light"
     },
     "output_type": "display_data"
    }
   ],
   "source": [
    "plt.plot(tomo_z_bin,corr_data)\n",
    "plt.title('Extragalactic Contamination: Dust Model D1')\n",
    "plt.xlabel('Redshift')\n",
    "plt.ylabel('Correlation of Contamination')\n",
    "plt.show()"
   ]
  },
  {
   "cell_type": "code",
   "execution_count": null,
   "id": "2880bc81-b3c3-480e-8d6f-3cd676cccf8b",
   "metadata": {},
   "outputs": [],
   "source": []
  }
 ],
 "metadata": {
  "kernelspec": {
   "display_name": "Python 3 (ipykernel)",
   "language": "python",
   "name": "python3"
  },
  "language_info": {
   "codemirror_mode": {
    "name": "ipython",
    "version": 3
   },
   "file_extension": ".py",
   "mimetype": "text/x-python",
   "name": "python",
   "nbconvert_exporter": "python",
   "pygments_lexer": "ipython3",
   "version": "3.10.5"
  }
 },
 "nbformat": 4,
 "nbformat_minor": 5
}
