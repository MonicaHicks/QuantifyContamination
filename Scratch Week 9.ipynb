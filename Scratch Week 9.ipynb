{
 "cells": [
  {
   "cell_type": "code",
   "execution_count": 1,
   "id": "a1f89075-6587-4544-a02b-51213b9070d8",
   "metadata": {},
   "outputs": [],
   "source": [
    "import numpy as np\n",
    "import matplotlib.pyplot as plt"
   ]
  },
  {
   "cell_type": "code",
   "execution_count": 4,
   "id": "e08b85fa-ce21-47a4-aea5-0390877f572b",
   "metadata": {},
   "outputs": [],
   "source": [
    "datapoints = [45498.29856344,164398.46164576,281642.50384862,400619.07479296,489034.49531083,554949.76640514,614341.84802567,615200.41598952,613236.33898471,579935.57602181,552353.23261955,533164.05213498,543067.01045632,534086.57925103,499146.62133502,502957.70028926,576514.92755357,520709.53439014,414624.33564121,307950.38984074,207060.64284793,159544.3798582,112590.26340932,79014.860787,64763.89887758,41554.64758364,33900.98110298,13373.94732963,9929.62061345,5198.28877265,5595.34020391,2115.62276936]"
   ]
  },
  {
   "cell_type": "code",
   "execution_count": 5,
   "id": "6d4479a3-3abe-4002-bc9f-a18c2c02344c",
   "metadata": {},
   "outputs": [
    {
     "name": "stdout",
     "output_type": "stream",
     "text": [
      "32\n"
     ]
    }
   ],
   "source": [
    "print(len(datapoints))"
   ]
  },
  {
   "cell_type": "code",
   "execution_count": 6,
   "id": "de5edab2-2b1c-4296-b260-390e3cb16ab7",
   "metadata": {},
   "outputs": [],
   "source": [
    "x1 = np.linspace(0,0.25,17)\n",
    "x1 = x1[1:]\n",
    "x2 = np.linspace(0.25,0.5,17)\n",
    "x2 = x2[1:]"
   ]
  },
  {
   "cell_type": "code",
   "execution_count": 10,
   "id": "b28e8d2c-6e61-42f9-b99b-fe599750549a",
   "metadata": {},
   "outputs": [],
   "source": [
    "x = []\n",
    "for i in range(len(x2)):\n",
    "    x.append(x1[i])\n",
    "    x.append(x2[i])\n",
    "x.sort()"
   ]
  },
  {
   "cell_type": "code",
   "execution_count": 12,
   "id": "3c344cac-8fe0-4463-8c1b-0629b2db0844",
   "metadata": {},
   "outputs": [
    {
     "data": {
      "text/plain": [
       "32"
      ]
     },
     "execution_count": 12,
     "metadata": {},
     "output_type": "execute_result"
    }
   ],
   "source": [
    "len(x)"
   ]
  },
  {
   "cell_type": "code",
   "execution_count": 13,
   "id": "d83c57c4-e8c5-409c-8d0a-20711e80ece3",
   "metadata": {},
   "outputs": [
    {
     "data": {
      "image/png": "[encoded data removed]",
      "text/plain": [
       "<Figure size 432x288 with 1 Axes>"
      ]
     },
     "metadata": {
      "needs_background": "light"
     },
     "output_type": "display_data"
    }
   ],
   "source": [
    "plt.scatter(x,datapoints)\n",
    "plt.show()"
   ]
  },
  {
   "cell_type": "code",
   "execution_count": null,
   "id": "e57206a9-7bde-41ce-8f04-a2511687442c",
   "metadata": {},
   "outputs": [],
   "source": []
  }
 ],
 "metadata": {
  "kernelspec": {
   "display_name": "Python 3 (ipykernel)",
   "language": "python",
   "name": "python3"
  },
  "language_info": {
   "codemirror_mode": {
    "name": "ipython",
    "version": 3
   },
   "file_extension": ".py",
   "mimetype": "text/x-python",
   "name": "python",
   "nbconvert_exporter": "python",
   "pygments_lexer": "ipython3",
   "version": "3.10.5"
  }
 },
 "nbformat": 4,
 "nbformat_minor": 5
}
