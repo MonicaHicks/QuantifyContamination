{
 "cells": [
  {
   "cell_type": "markdown",
   "id": "913d38a9-b836-4782-ae45-652d9292bd1f",
   "metadata": {},
   "source": [
    "# How to Run a Job on the Sherlock Computer Cluster"
   ]
  },
  {
   "cell_type": "markdown",
   "id": "59060589-d8b4-4b39-ba4b-9212fe8c259d",
   "metadata": {},
   "source": [
    "### Logging onto Sherlock From Terminal"
   ]
  },
  {
   "cell_type": "markdown",
   "id": "225fdca1-1dde-4507-bcee-b7d4b50da3c7",
   "metadata": {},
   "source": [
    "Open up a new terminal window on your computer. On Mac, this can be done by holding down 'cmd' + 'space'. A Spotlight Search bar will pop up, and typing in 'terminal' will bring up an icon with a small black square that you can click on to open the Terminal Application. \n",
    "\n",
    "The next step is to ssh (remote login) to the cluster. Type the following command into the command line prompt on your computer. "
   ]
  },
  {
   "cell_type": "code",
   "execution_count": null,
   "id": "5d9c167a-79f1-4ee3-9860-5dc5b8db145f",
   "metadata": {},
   "outputs": [],
   "source": [
    "ssh <your SUnet ID>@sherlock.stanford.edu"
   ]
  },
  {
   "cell_type": "markdown",
   "id": "ff8275ba-8466-419d-ac38-451e366c671a",
   "metadata": {},
   "source": [
    "It will prompt you to enter the password associated with your Stanford email and select a method for 2-factor verification (Duo Mobile)"
   ]
  },
  {
   "cell_type": "markdown",
   "id": "2c14a566-914f-4577-85c2-f6a53c5cb9f4",
   "metadata": {},
   "source": [
    "### Navigating the Login Node"
   ]
  },
  {
   "cell_type": "markdown",
   "id": "e84c94d0-3b4b-410a-9cf0-e169358a1bd1",
   "metadata": {},
   "source": [
    "You are now in the login node on Sherlock. You generally don't want to run any code on the login node because it has limited memory and will bog down performance for other users. From the login node, we can log into the scratch node. All data on the scratch node is purged after 90 days, so be careful to move important data either onto your local machine or a more permanent node. (more on this later)\n",
    "\n",
    "Type the following command into the command line prompt to navigate to the scratch node"
   ]
  },
  {
   "cell_type": "code",
   "execution_count": null,
   "id": "f29fabbe-65dc-442f-921c-44e6b912bf73",
   "metadata": {},
   "outputs": [],
   "source": [
    "cd $SCRATCH"
   ]
  },
  {
   "cell_type": "markdown",
   "id": "3238808b-087c-48bb-901e-915d937d154a",
   "metadata": {},
   "source": [
    "It should now say '/scratch/users/\\<your SUnet ID>' to the left of your command line prompt.\n",
    "You're now ready to begin creating files and scripts.\n",
    "    \n",
    "To create a new folder use the keyword 'mkdir' + '\\<folder name>'"
   ]
  },
  {
   "cell_type": "code",
   "execution_count": null,
   "id": "f0fa671d-50bd-47f6-a499-6ff776b75cb8",
   "metadata": {},
   "outputs": [],
   "source": [
    "mkdir summer_2023"
   ]
  },
  {
   "cell_type": "markdown",
   "id": "05728799-a678-442e-b47d-46dff5ad2d54",
   "metadata": {},
   "source": [
    "You can then use the command 'cd' to change directory into that (or any other existing) folder.\n",
    "This won't work for files (so 'cd python_script.py' won't work)."
   ]
  },
  {
   "cell_type": "code",
   "execution_count": null,
   "id": "1941ee13-1312-4321-8221-c567e13ded09",
   "metadata": {},
   "outputs": [],
   "source": [
    "cd summer_2023"
   ]
  },
  {
   "cell_type": "markdown",
   "id": "1d844a99-4cb3-4bb1-a522-f40b771e621f",
   "metadata": {},
   "source": [
    "To navigate out of the directory you are currently in, you can use 'cd' without any other arguments to return to the login node or 'cd ..' to back up to the previous folder."
   ]
  },
  {
   "cell_type": "code",
   "execution_count": null,
   "id": "4b14b2dd-ee95-4f70-8f92-b76cf1179479",
   "metadata": {},
   "outputs": [],
   "source": [
    "cd .. # takes you to the previous folder\n",
    "cd # takes you to the login/Home node"
   ]
  },
  {
   "cell_type": "markdown",
   "id": "6443a008-5c1e-4ba9-ad67-a088d84f32ae",
   "metadata": {},
   "source": [
    "To find the full path to the directory you are currently in, use the command 'pwd'"
   ]
  },
  {
   "cell_type": "code",
   "execution_count": null,
   "id": "680545b7-1c36-43f4-aa7f-c2fbcc26e22a",
   "metadata": {},
   "outputs": [],
   "source": [
    "pwd"
   ]
  },
  {
   "cell_type": "markdown",
   "id": "00efe7d4-af25-4987-9062-e86f35b38579",
   "metadata": {},
   "source": [
    "You can use the command 'vim' to create or open a file (.txt, .csv, .py, etc.) in a text editor"
   ]
  },
  {
   "cell_type": "code",
   "execution_count": null,
   "id": "14325df9-ac6f-4579-8c83-59f8a3d85df0",
   "metadata": {},
   "outputs": [],
   "source": [
    "vim data.csv\n",
    "vim notes.txt\n",
    "vim data_analysis.py"
   ]
  },
  {
   "cell_type": "markdown",
   "id": "8e4dcce5-dcd2-43f2-bbb3-ab5e52da6334",
   "metadata": {},
   "source": [
    "In vim, type 'i' to enter 'insert mode' to be able to enter text.<p>\n",
    "When you are done typing, press 'esc' to exit insert mode.<p>\n",
    "To save your work type ':w'.<p>\n",
    "To save your work and exit the text editor type ':wq' or ':x'"
   ]
  },
  {
   "cell_type": "markdown",
   "id": "aa1461c1-c9c3-4fc4-8ef3-47038074df36",
   "metadata": {},
   "source": [
    "You can use the command 'cat' to print the contents of a file to terminal without opening it."
   ]
  },
  {
   "cell_type": "code",
   "execution_count": null,
   "id": "c86f9b2f-12cb-4be7-8b44-c6907bc222a8",
   "metadata": {},
   "outputs": [],
   "source": [
    "cat notes.csv"
   ]
  },
  {
   "cell_type": "markdown",
   "id": "324f6f71-64d2-4971-95bc-92ccb1d4bb18",
   "metadata": {},
   "source": [
    "You can use the command 'ls' to print all files and folders in the current directory."
   ]
  },
  {
   "cell_type": "code",
   "execution_count": null,
   "id": "9c8a3e8e-fcda-4ac7-9503-3a62f7cc4dc0",
   "metadata": {},
   "outputs": [],
   "source": [
    "ls"
   ]
  },
  {
   "cell_type": "markdown",
   "id": "ab033012-5976-4a42-ad4d-b57a0f9b5609",
   "metadata": {},
   "source": [
    "You can use the command 'rm' + '\\<filename>' to delete a file. \n",
    "This is permanent and cannot be undone. "
   ]
  },
  {
   "cell_type": "code",
   "execution_count": null,
   "id": "39160a67-3b24-4bb0-9895-09211f9dc26c",
   "metadata": {},
   "outputs": [],
   "source": [
    "rm data.csv"
   ]
  },
  {
   "cell_type": "markdown",
   "id": "3227d9f4-a259-4919-8495-7f440ee76de5",
   "metadata": {},
   "source": [
    "You can use 'ctrl' + 'c' to stop/interrupt a process that is currently running"
   ]
  },
  {
   "cell_type": "markdown",
   "id": "eddc85fc-4f9f-4c4b-abaf-b1b241bf5898",
   "metadata": {},
   "source": [
    "The command 'exit' will end your session and log you off of the computer cluster"
   ]
  },
  {
   "cell_type": "code",
   "execution_count": null,
   "id": "ae5a5957-0925-417a-8e9a-ef008ef7f2fe",
   "metadata": {},
   "outputs": [],
   "source": [
    "exit"
   ]
  },
  {
   "cell_type": "markdown",
   "id": "24534ef1-8694-47f0-adc2-574dee0f8fe7",
   "metadata": {},
   "source": [
    "### Moving Files to/from Sherlock"
   ]
  },
  {
   "cell_type": "markdown",
   "id": "c005b345-85c3-44a5-8d18-cfacec33703b",
   "metadata": {},
   "source": [
    "This process is done from your local machine (either before logging into Sherlock or from another terminal window. <p>on a Mac, additional windows can be opened in the terminal by pressing 'cmd' + 't'). <p>\n",
    "The login node only has ~15gb of memory, which can easily be eaten up by a large fits file. I recommend sending files directly to the scratch node. <p>\n",
    "The format to send a file from your local machine to Sherlock it is: <p> scp \\<filename> \\<your SUnet ID>@login.sherlock.stanford.edu:/scratch/users/\\<your SUnet ID> <p>\n",
    "To send a file from Sherlock to your local machine, reverse the order and specify the location to store the file (ex. in Downloads): <p>\n",
    "scp \\<your SUnet ID>@login.sherlock.stanford.edu:/scratch/users/\\<your SUnet ID>/\\<path to file> \\<local path to store file>"
   ]
  },
  {
   "cell_type": "code",
   "execution_count": null,
   "id": "4caea46a-daea-48b7-bb02-7044def5006f",
   "metadata": {},
   "outputs": [],
   "source": [
    "# send from local machine to scratch\n",
    "scp test_data.fits <your SUnet ID>@login/sherlock/stanford.edu:/scratch/users/<your SUnet ID>\n",
    "\n",
    "# example of sending from folder summer_2023 within scratch to local machine\n",
    "<your SUnet ID>@login.sherlock.stanford.edu:/scratch/users/<your SUnet ID>/summer_2023/test_data.fits Downloads"
   ]
  },
  {
   "cell_type": "markdown",
   "id": "45cc633f-6f25-4e71-81ab-e800305b679c",
   "metadata": {},
   "source": [
    "### Loading Modules on Sherlock"
   ]
  },
  {
   "cell_type": "markdown",
   "id": "154b2e25-b7e5-427c-aba4-f5838407ba11",
   "metadata": {},
   "source": [
    "Sherlock is not guaranteed to have all of the modules or libraries that you need. <p>To look up to different versions of libraries use the command 'module spider \\<library>'"
   ]
  },
  {
   "cell_type": "code",
   "execution_count": null,
   "id": "dcad243b-22b5-44cd-9de3-bb3d9d187833",
   "metadata": {},
   "outputs": [],
   "source": [
    "module spider python\n",
    "module spider pandas\n",
    "module spider astropy\n",
    "module spider numpy"
   ]
  },
  {
   "cell_type": "markdown",
   "id": "d13949f5-2e23-4c2d-b4de-e090576cb024",
   "metadata": {},
   "source": [
    "It will give you examples of different versions of the library, and you can use the command 'module load' or 'ml' to load them."
   ]
  },
  {
   "cell_type": "code",
   "execution_count": null,
   "id": "e38325cc-8317-4dfd-86ed-2cb1d98f84c1",
   "metadata": {},
   "outputs": [],
   "source": [
    "module load python/3.9.0\n",
    "ml py-pandas/1.3.1_py39\n",
    "ml py-numpy/1.20.3_py39"
   ]
  },
  {
   "cell_type": "markdown",
   "id": "4c84a092-feb4-43ea-b39d-0d97a7a13e61",
   "metadata": {},
   "source": [
    "### Creating an sbatch file to submit a job"
   ]
  },
  {
   "cell_type": "markdown",
   "id": "d18ee102-7fce-4144-9a53-ef8bf965d545",
   "metadata": {},
   "source": [
    "Start off by creating a new sbatch file. You can call it whatever you want as long as it ends in .sbatch"
   ]
  },
  {
   "cell_type": "code",
   "execution_count": null,
   "id": "93c05661-df87-4de0-8e3a-71c4a4247f4e",
   "metadata": {},
   "outputs": [],
   "source": [
    "vim submit.sbatch\n",
    "vim example.sbatch"
   ]
  },
  {
   "cell_type": "markdown",
   "id": "8ac13a96-3879-4ad2-829c-65cf8aaf35f2",
   "metadata": {},
   "source": [
    "In the sbatch file you need to provide information such as: <p> <b>\n",
    "    What partition to run your job on<p>How much time to give your job to run<p>Whether you want to receive email updates\n",
    "        <p>Where to send email updates<p>The number of tasks<p>CPUs per task<p>Memory needed<p>How to save the output file<p>Any dependencies to load at runtime<p>The commands you want executed<p></b> <p>Here is an example sbatch file the will run on the KIPAC partition for 2 hours and require 32GB of memory. It will run the 3 example python scripts listed."
   ]
  },
  {
   "cell_type": "code",
   "execution_count": null,
   "id": "02789a30-b670-4e63-92c5-c214d4082816",
   "metadata": {},
   "outputs": [],
   "source": [
    "#!/bin/bash -l\n",
    "#SBATCH --partition=kipac\n",
    "#SBATCH -t 2:00:00\n",
    "#SBATCH --mail-type=ALL\n",
    "#SBATCH --mail-user=<your SUnet ID>@stanford.edu\n",
    "#SBATCH --ntasks=1\n",
    "#SBATCH --cpus-per-task=1\n",
    "#SBATCH --mem-per-cpu=32G\n",
    "#SBATCH --output=submit.%j.out\n",
    "\n",
    "#source ~/setup.sh\n",
    "ml python/3.9.0\n",
    "ml py-pandas/1.3.1_py39\n",
    "\n",
    "python3 clean_data.py\n",
    "python3 data_analysis.py\n",
    "python3 correlate_data.py"
   ]
  },
  {
   "cell_type": "markdown",
   "id": "466d7f4d-af1a-4729-90bd-37613ddd3f0f",
   "metadata": {},
   "source": [
    "After saving your sbatch file, type 'sbatch' + '\\<sbatch filename>' to submit your job to scheduler"
   ]
  },
  {
   "cell_type": "code",
   "execution_count": null,
   "id": "94768a62-8d6a-4f83-80d0-21ec667095f3",
   "metadata": {},
   "outputs": [],
   "source": [
    "sbatch submit.sbatch"
   ]
  }
 ],
 "metadata": {
  "kernelspec": {
   "display_name": "Python 3 (ipykernel)",
   "language": "python",
   "name": "python3"
  },
  "language_info": {
   "codemirror_mode": {
    "name": "ipython",
    "version": 3
   },
   "file_extension": ".py",
   "mimetype": "text/x-python",
   "name": "python",
   "nbconvert_exporter": "python",
   "pygments_lexer": "ipython3",
   "version": "3.10.5"
  }
 },
 "nbformat": 4,
 "nbformat_minor": 5
}
