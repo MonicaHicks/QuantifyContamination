{
 "cells": [
  {
   "cell_type": "markdown",
   "id": "d48a9a00-a8a6-44cc-b721-2c342a38570a",
   "metadata": {},
   "source": [
    "# Summer Research Master Tutorial"
   ]
  },
  {
   "cell_type": "markdown",
   "id": "f894b5b9-5bd0-4357-a5ce-6d4675c3be64",
   "metadata": {},
   "source": [
    "## Table of Contents"
   ]
  },
  {
   "cell_type": "markdown",
   "id": "5a69b265-7886-44d6-87f4-abee4fbbb5d5",
   "metadata": {},
   "source": [
    "#### Numpy\n",
    "#### Pandas\n",
    "#### MatPlotLib\n",
    "#### Healpy\n",
    "#### General Python Tips & Tricks"
   ]
  },
  {
   "cell_type": "markdown",
   "id": "e6eaa34b-7a2a-465a-90e5-14aca0f66edd",
   "metadata": {},
   "source": [
    "## Numpy"
   ]
  },
  {
   "cell_type": "code",
   "execution_count": 7,
   "id": "f48c5a51-b0d2-4acb-a0e4-859e1a2690ae",
   "metadata": {},
   "outputs": [],
   "source": [
    "import numpy as np"
   ]
  },
  {
   "cell_type": "markdown",
   "id": "6caef109-e9e1-4c15-82eb-4240e39c1065",
   "metadata": {},
   "source": [
    "Create an array using <b>np.arange()"
   ]
  },
  {
   "cell_type": "code",
   "execution_count": 9,
   "id": "b73058d0-c00b-49b1-bee9-677414698ab2",
   "metadata": {},
   "outputs": [
    {
     "data": {
      "text/plain": [
       "array([10, 15, 20, 25, 30, 35])"
      ]
     },
     "execution_count": 9,
     "metadata": {},
     "output_type": "execute_result"
    }
   ],
   "source": [
    "# np.arange(start,stop,step)\n",
    "arr_by_fives = np.arange(10,40,5)\n",
    "arr_by_fives"
   ]
  },
  {
   "cell_type": "code",
   "execution_count": 26,
   "id": "3bddb6c0-cb8c-4cab-a5ec-2995e13076ca",
   "metadata": {},
   "outputs": [
    {
     "data": {
      "text/plain": [
       "array([0.  , 0.25, 0.5 , 0.75, 1.  , 1.25, 1.5 , 1.75, 2.  , 2.25, 2.5 ,\n",
       "       2.75])"
      ]
     },
     "execution_count": 26,
     "metadata": {},
     "output_type": "execute_result"
    }
   ],
   "source": [
    "# np.arange(start,stop,step)\n",
    "# you can have a float step\n",
    "float_step = np.arange(0,3,0.25)\n",
    "float_step"
   ]
  },
  {
   "cell_type": "code",
   "execution_count": 25,
   "id": "e6c38ce7-c6b2-46eb-975c-af7969a9f55d",
   "metadata": {},
   "outputs": [
    {
     "data": {
      "text/plain": [
       "array([3, 4, 5, 6, 7])"
      ]
     },
     "execution_count": 25,
     "metadata": {},
     "output_type": "execute_result"
    }
   ],
   "source": [
    "# np.arange(start,stop)\n",
    "# !! you cannot do np.arange(stop,step) !!\n",
    "start_stop = np.arange(3,8)\n",
    "start_stop"
   ]
  },
  {
   "cell_type": "code",
   "execution_count": 10,
   "id": "cca93d8b-e71f-4ad4-943b-f42897235163",
   "metadata": {},
   "outputs": [
    {
     "data": {
      "text/plain": [
       "array([0, 1, 2, 3, 4, 5, 6, 7, 8, 9])"
      ]
     },
     "execution_count": 10,
     "metadata": {},
     "output_type": "execute_result"
    }
   ],
   "source": [
    "# np.arange(stop)\n",
    "simple_arr = np.arange(10)\n",
    "simple_arr"
   ]
  },
  {
   "cell_type": "markdown",
   "id": "bb92b0fc-792c-4323-9e4b-485deac41b3b",
   "metadata": {},
   "source": [
    "Create an array with a desired number of elements using <b>np.linspace()</b>"
   ]
  },
  {
   "cell_type": "code",
   "execution_count": 29,
   "id": "7c05eac8-8b8a-43fb-b62f-bdbaef2f224a",
   "metadata": {},
   "outputs": [
    {
     "data": {
      "text/plain": [
       "array([5. , 5.3, 5.6, 5.9, 6.2, 6.5, 6.8, 7.1, 7.4, 7.7, 8. ])"
      ]
     },
     "execution_count": 29,
     "metadata": {},
     "output_type": "execute_result"
    }
   ],
   "source": [
    "# create an array to serve as bin edges for 10 buckets\n",
    "# np.linspace(start,stop,# of edges)\n",
    "# np.linspace(start,stop,(# of buckets) + 1)\n",
    "buckets = np.linspace(5,8,11)\n",
    "buckets"
   ]
  },
  {
   "cell_type": "markdown",
   "id": "9e11b56d-d832-472b-aa99-5af76520651e",
   "metadata": {},
   "source": [
    "Learn more about your data using <b>.shape, type(), .size, .ndim, .dtype.name"
   ]
  },
  {
   "cell_type": "code",
   "execution_count": 11,
   "id": "aa880bd7-52ca-4544-8d84-a6d89c1fbe1b",
   "metadata": {},
   "outputs": [
    {
     "data": {
      "text/plain": [
       "(6,)"
      ]
     },
     "execution_count": 11,
     "metadata": {},
     "output_type": "execute_result"
    }
   ],
   "source": [
    "arr_by_fives.shape"
   ]
  },
  {
   "cell_type": "code",
   "execution_count": 31,
   "id": "2f2cd829-472d-4f65-9f8b-506303d13fe1",
   "metadata": {},
   "outputs": [
    {
     "data": {
      "text/plain": [
       "1"
      ]
     },
     "execution_count": 31,
     "metadata": {},
     "output_type": "execute_result"
    }
   ],
   "source": [
    "float_step.ndim"
   ]
  },
  {
   "cell_type": "code",
   "execution_count": 32,
   "id": "1d3095de-d7b8-4048-a570-16c8167c0ac4",
   "metadata": {},
   "outputs": [
    {
     "data": {
      "text/plain": [
       "numpy.ndarray"
      ]
     },
     "execution_count": 32,
     "metadata": {},
     "output_type": "execute_result"
    }
   ],
   "source": [
    "type(start_stop)"
   ]
  },
  {
   "cell_type": "code",
   "execution_count": 33,
   "id": "59061bcf-b58e-4d02-abe8-0bf050192c83",
   "metadata": {},
   "outputs": [
    {
     "data": {
      "text/plain": [
       "numpy.int64"
      ]
     },
     "execution_count": 33,
     "metadata": {},
     "output_type": "execute_result"
    }
   ],
   "source": [
    "type(start_stop[0])"
   ]
  },
  {
   "cell_type": "code",
   "execution_count": 17,
   "id": "e8a2bf42-30ee-41f0-a91a-2a1191eada1b",
   "metadata": {},
   "outputs": [
    {
     "data": {
      "text/plain": [
       "'int64'"
      ]
     },
     "execution_count": 17,
     "metadata": {},
     "output_type": "execute_result"
    }
   ],
   "source": [
    "simple_arr.dtype.name"
   ]
  },
  {
   "cell_type": "code",
   "execution_count": 34,
   "id": "716829aa-a859-415a-9f0a-aeeb56725f30",
   "metadata": {},
   "outputs": [
    {
     "data": {
      "text/plain": [
       "11"
      ]
     },
     "execution_count": 34,
     "metadata": {},
     "output_type": "execute_result"
    }
   ],
   "source": [
    "buckets.size"
   ]
  },
  {
   "cell_type": "markdown",
   "id": "89d885ea-283f-460f-8032-859bc980defe",
   "metadata": {},
   "source": [
    "Matrix math"
   ]
  },
  {
   "cell_type": "code",
   "execution_count": 41,
   "id": "2a51a1e2-10e4-425c-99fb-a02b2ed54054",
   "metadata": {},
   "outputs": [],
   "source": [
    "a = np.arange(0,10)\n",
    "b = np.linspace(4,5,10)"
   ]
  },
  {
   "cell_type": "code",
   "execution_count": 42,
   "id": "285bf605-2a35-4750-adea-175e2ad04f34",
   "metadata": {},
   "outputs": [
    {
     "data": {
      "text/plain": [
       "array([-4.        , -3.11111111, -2.22222222, -1.33333333, -0.44444444,\n",
       "        0.44444444,  1.33333333,  2.22222222,  3.11111111,  4.        ])"
      ]
     },
     "execution_count": 42,
     "metadata": {},
     "output_type": "execute_result"
    }
   ],
   "source": [
    "# element-wise subtraction\n",
    "a - b"
   ]
  },
  {
   "cell_type": "code",
   "execution_count": 43,
   "id": "9787e328-7b61-43d7-bbef-22652a3bebd2",
   "metadata": {},
   "outputs": [
    {
     "data": {
      "text/plain": [
       "array([ 0.        ,  4.11111111,  8.44444444, 13.        , 17.77777778,\n",
       "       22.77777778, 28.        , 33.44444444, 39.11111111, 45.        ])"
      ]
     },
     "execution_count": 43,
     "metadata": {},
     "output_type": "execute_result"
    }
   ],
   "source": [
    "# element-wise multiplication\n",
    "a * b"
   ]
  },
  {
   "cell_type": "code",
   "execution_count": 44,
   "id": "35a3472b-aafc-47ab-9063-365a6b47205a",
   "metadata": {},
   "outputs": [
    {
     "data": {
      "text/plain": [
       "211.66666666666669"
      ]
     },
     "execution_count": 44,
     "metadata": {},
     "output_type": "execute_result"
    }
   ],
   "source": [
    "# matrix multiplication\n",
    "a @ b"
   ]
  },
  {
   "cell_type": "markdown",
   "id": "0612af50-b9ea-4064-8adc-fa4500197fff",
   "metadata": {},
   "source": [
    "Creating arrays using <b>np.zeros</b> and <b>np.ones()</b>"
   ]
  },
  {
   "cell_type": "code",
   "execution_count": 54,
   "id": "41816a17-f0bf-4249-9c65-b97d0157a48a",
   "metadata": {},
   "outputs": [
    {
     "data": {
      "text/plain": [
       "array([1., 1., 1., 1., 1., 1., 1., 1., 1., 1., 1., 1., 1., 1., 1., 1., 1.,\n",
       "       1., 1., 1.])"
      ]
     },
     "execution_count": 54,
     "metadata": {},
     "output_type": "execute_result"
    }
   ],
   "source": [
    "# np.ones(# of elements)\n",
    "np.ones(20)"
   ]
  },
  {
   "cell_type": "code",
   "execution_count": 50,
   "id": "2434a8ca-1a28-4e83-a7de-63b8ea7b9cdc",
   "metadata": {},
   "outputs": [
    {
     "data": {
      "text/plain": [
       "array([[1, 1],\n",
       "       [1, 1],\n",
       "       [1, 1]])"
      ]
     },
     "execution_count": 50,
     "metadata": {},
     "output_type": "execute_result"
    }
   ],
   "source": [
    "# np.ones((rows,cols),dtype)\n",
    "ones_2d_arr = np.ones((3,2),dtype=int)\n",
    "ones_2d_arr"
   ]
  },
  {
   "cell_type": "code",
   "execution_count": 57,
   "id": "59155218-9227-40e1-9bde-7327758cf618",
   "metadata": {},
   "outputs": [
    {
     "data": {
      "text/plain": [
       "array([[8, 8],\n",
       "       [8, 8],\n",
       "       [8, 8]])"
      ]
     },
     "execution_count": 57,
     "metadata": {},
     "output_type": "execute_result"
    }
   ],
   "source": [
    "# use multiplication to change array value\n",
    "eights_arr = ones_2d_arr * 8\n",
    "eights_arr"
   ]
  },
  {
   "cell_type": "code",
   "execution_count": 56,
   "id": "da3cc3e7-5d5d-4f26-a965-c6e13b634bc8",
   "metadata": {},
   "outputs": [
    {
     "data": {
      "text/plain": [
       "array([0., 0., 0., 0., 0., 0., 0., 0., 0., 0.])"
      ]
     },
     "execution_count": 56,
     "metadata": {},
     "output_type": "execute_result"
    }
   ],
   "source": [
    "# np.zeros(# of elements)\n",
    "np.zeros(10)"
   ]
  },
  {
   "cell_type": "markdown",
   "id": "6f50443e-42d3-416a-877f-0cd85812d958",
   "metadata": {},
   "source": [
    "Using <b>.reshape</b>"
   ]
  },
  {
   "cell_type": "code",
   "execution_count": 61,
   "id": "5d116c67-8691-4f9f-8b40-b5723d118a08",
   "metadata": {},
   "outputs": [
    {
     "data": {
      "text/plain": [
       "array([1., 1., 1., 1., 1., 1., 1., 1., 1., 1., 1., 1., 1., 1., 1., 1., 1.,\n",
       "       1., 1., 1.])"
      ]
     },
     "execution_count": 61,
     "metadata": {},
     "output_type": "execute_result"
    }
   ],
   "source": [
    "# 1-d array of 20 elements\n",
    "to_reshape = np.ones(20)\n",
    "to_reshape"
   ]
  },
  {
   "cell_type": "code",
   "execution_count": 62,
   "id": "3c1e6c54-b04a-407b-ba43-b508b42d2197",
   "metadata": {},
   "outputs": [
    {
     "data": {
      "text/plain": [
       "array([[1., 1., 1., 1., 1.],\n",
       "       [1., 1., 1., 1., 1.],\n",
       "       [1., 1., 1., 1., 1.],\n",
       "       [1., 1., 1., 1., 1.]])"
      ]
     },
     "execution_count": 62,
     "metadata": {},
     "output_type": "execute_result"
    }
   ],
   "source": [
    "# 4-d array of 5 elements each\n",
    "to_reshape = to_reshape.reshape((4,5))\n",
    "to_reshape"
   ]
  },
  {
   "cell_type": "markdown",
   "id": "1ca66ad9-0f63-44b5-ab35-64c504bda12a",
   "metadata": {},
   "source": [
    "Useful array operations using <b> np.max(), np.min(), np.median(), np.mean(), np.std(), np.var()</b>, and <b>np.sum()</b>"
   ]
  },
  {
   "cell_type": "code",
   "execution_count": 63,
   "id": "c76ff9f6-bd77-46db-85a4-0816a0ab5506",
   "metadata": {},
   "outputs": [
    {
     "data": {
      "text/plain": [
       "21"
      ]
     },
     "execution_count": 63,
     "metadata": {},
     "output_type": "execute_result"
    }
   ],
   "source": [
    "test_arr = [5,3,21,7,-2,8]\n",
    "np.max(test_arr)"
   ]
  },
  {
   "cell_type": "code",
   "execution_count": 64,
   "id": "ff5207e2-629b-45cb-86d5-d4616b477bdc",
   "metadata": {},
   "outputs": [
    {
     "data": {
      "text/plain": [
       "-2"
      ]
     },
     "execution_count": 64,
     "metadata": {},
     "output_type": "execute_result"
    }
   ],
   "source": [
    "np.min(test_arr)"
   ]
  },
  {
   "cell_type": "code",
   "execution_count": 75,
   "id": "bcae950f-c7d2-4778-b793-3836ffd7bd93",
   "metadata": {},
   "outputs": [
    {
     "data": {
      "text/plain": [
       "6.0"
      ]
     },
     "execution_count": 75,
     "metadata": {},
     "output_type": "execute_result"
    }
   ],
   "source": [
    "np.median(test_arr)"
   ]
  },
  {
   "cell_type": "code",
   "execution_count": 76,
   "id": "c898da19-d3ce-4f98-b06b-02aa9e05eb46",
   "metadata": {},
   "outputs": [
    {
     "data": {
      "text/plain": [
       "7.0"
      ]
     },
     "execution_count": 76,
     "metadata": {},
     "output_type": "execute_result"
    }
   ],
   "source": [
    "np.mean(test_arr)"
   ]
  },
  {
   "cell_type": "code",
   "execution_count": 77,
   "id": "6c6710f0-0b3e-4ec4-8ead-f43b8609e4be",
   "metadata": {},
   "outputs": [
    {
     "data": {
      "text/plain": [
       "7.047458170621991"
      ]
     },
     "execution_count": 77,
     "metadata": {},
     "output_type": "execute_result"
    }
   ],
   "source": [
    "np.std(test_arr)"
   ]
  },
  {
   "cell_type": "code",
   "execution_count": 78,
   "id": "a5729841-961e-47dd-b45d-7cb11abaa7f3",
   "metadata": {},
   "outputs": [
    {
     "data": {
      "text/plain": [
       "49.666666666666664"
      ]
     },
     "execution_count": 78,
     "metadata": {},
     "output_type": "execute_result"
    }
   ],
   "source": [
    "np.var(test_arr)"
   ]
  },
  {
   "cell_type": "code",
   "execution_count": 65,
   "id": "0578321d-f425-49ac-9fe0-5968f71be7bb",
   "metadata": {},
   "outputs": [
    {
     "data": {
      "text/plain": [
       "42"
      ]
     },
     "execution_count": 65,
     "metadata": {},
     "output_type": "execute_result"
    }
   ],
   "source": [
    "np.sum(test_arr)"
   ]
  },
  {
   "cell_type": "markdown",
   "id": "05967f7e-4122-4c63-ad23-0d64b0be5163",
   "metadata": {},
   "source": [
    "Make a histogram using <b>np.histogram()</b>"
   ]
  },
  {
   "cell_type": "code",
   "execution_count": 70,
   "id": "0dda4979-3ae3-4f00-b169-a4a909f32e23",
   "metadata": {},
   "outputs": [],
   "source": [
    "hist_data = [0,2,0,5,0,9,0,1]\n",
    "my_histogram,bin_edges = np.histogram(hist_data)"
   ]
  },
  {
   "cell_type": "code",
   "execution_count": 74,
   "id": "839bc631-f9d2-42e4-a9c1-fb9854948a58",
   "metadata": {},
   "outputs": [
    {
     "data": {
      "text/plain": [
       "array([4, 1, 1, 0, 0, 1, 0, 0, 0, 1])"
      ]
     },
     "execution_count": 74,
     "metadata": {},
     "output_type": "execute_result"
    }
   ],
   "source": [
    "# four 0s, one 1, one 2, one 5, one 9\n",
    "my_histogram"
   ]
  },
  {
   "cell_type": "code",
   "execution_count": 73,
   "id": "6edf9377-f823-416b-b36b-60f87aaae27f",
   "metadata": {},
   "outputs": [
    {
     "data": {
      "text/plain": [
       "array([0. , 0.9, 1.8, 2.7, 3.6, 4.5, 5.4, 6.3, 7.2, 8.1, 9. ])"
      ]
     },
     "execution_count": 73,
     "metadata": {},
     "output_type": "execute_result"
    }
   ],
   "source": [
    "# number of bin edges is (# of buckets) + 1\n",
    "bin_edges"
   ]
  },
  {
   "cell_type": "markdown",
   "id": "dd88dc7d-4b6f-4c74-90ef-6b5dc2e45d80",
   "metadata": {},
   "source": [
    "Use <b>np.correlate()</b> for auto and cross correlation"
   ]
  },
  {
   "cell_type": "code",
   "execution_count": 95,
   "id": "649e3d53-e873-451b-a5a9-a3d9582fa97f",
   "metadata": {},
   "outputs": [
    {
     "data": {
      "text/plain": [
       "array([130])"
      ]
     },
     "execution_count": 95,
     "metadata": {},
     "output_type": "execute_result"
    }
   ],
   "source": [
    "c = [0,1,2,3,4,5]\n",
    "d = [5,6,7,8,9,10]\n",
    "# cross correlate\n",
    "np.correlate(c,d)"
   ]
  },
  {
   "cell_type": "code",
   "execution_count": 100,
   "id": "c5140810-9c4f-4875-b140-73381735eb22",
   "metadata": {},
   "outputs": [
    {
     "data": {
      "text/plain": [
       "array([355])"
      ]
     },
     "execution_count": 100,
     "metadata": {},
     "output_type": "execute_result"
    }
   ],
   "source": [
    "# auto correlate\n",
    "np.correlate(d,d)"
   ]
  },
  {
   "cell_type": "code",
   "execution_count": null,
   "id": "59dad33a-acff-4768-bfee-9599cfe860b4",
   "metadata": {},
   "outputs": [],
   "source": []
  }
 ],
 "metadata": {
  "kernelspec": {
   "display_name": "Python 3 (ipykernel)",
   "language": "python",
   "name": "python3"
  },
  "language_info": {
   "codemirror_mode": {
    "name": "ipython",
    "version": 3
   },
   "file_extension": ".py",
   "mimetype": "text/x-python",
   "name": "python",
   "nbconvert_exporter": "python",
   "pygments_lexer": "ipython3",
   "version": "3.10.5"
  }
 },
 "nbformat": 4,
 "nbformat_minor": 5
}
